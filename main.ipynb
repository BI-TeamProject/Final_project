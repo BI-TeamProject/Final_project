{
 "cells": [
  {
   "cell_type": "code",
   "execution_count": 1,
   "id": "99d392e5",
   "metadata": {},
   "outputs": [],
   "source": [
    "%load_ext autoreload\n",
    "%autoreload 2\n",
    "\n",
    "from code_py.DIAMOnD import *\n",
    "from code_py.backbone import Human_Genes_Graph_Analysis\n",
    "import markov_clustering as mc\n",
    "from joblib import Parallel, delayed\n",
    "import statistics \n",
    "from tqdm import tqdm\n",
    "\n",
    "sys_path = '/Users/tanselsimsek/Desktop/DS/2.1/BI/Final_project/'\n"
   ]
  },
  {
   "cell_type": "markdown",
   "id": "d384b9ae",
   "metadata": {},
   "source": [
    "#  Part 1: Preprocessing"
   ]
  },
  {
   "cell_type": "code",
   "execution_count": 2,
   "id": "c20b0dc2",
   "metadata": {},
   "outputs": [],
   "source": [
    "disease_code = \"C0020796\"\n",
    "hga = Human_Genes_Graph_Analysis(sys_path,disease_ID = disease_code)"
   ]
  },
  {
   "cell_type": "markdown",
   "id": "b195418b",
   "metadata": {},
   "source": [
    "#### 1.1 -- Filtering and removing self-loops"
   ]
  },
  {
   "cell_type": "code",
   "execution_count": 3,
   "id": "982b91f7",
   "metadata": {},
   "outputs": [
    {
     "name": "stdout",
     "output_type": "stream",
     "text": [
      "Number of putative genes: 889884\n"
     ]
    }
   ],
   "source": [
    "# Preprocessing the Biogrid dataset by filtering Homo Sapiens, removing duplicated and self loops\n",
    "hs_putative_genes = hga.preprocessing_dataset(homo_sap=True,drop_duplicates=True,remove_self_loops=True)"
   ]
  },
  {
   "cell_type": "markdown",
   "id": "95153c3f",
   "metadata": {},
   "source": [
    "#### 1.2 -- Filtering Disease Genes"
   ]
  },
  {
   "cell_type": "code",
   "execution_count": 4,
   "id": "d23d6ea0",
   "metadata": {},
   "outputs": [
    {
     "name": "stdout",
     "output_type": "stream",
     "text": [
      "Found 139 disease genes in Profound Mental Retardation\n"
     ]
    }
   ],
   "source": [
    "hs_disease_genes_df,hs_disease_genes = hga.query_disease_genes()"
   ]
  },
  {
   "cell_type": "markdown",
   "id": "c055e88e",
   "metadata": {},
   "source": [
    "#### 1.3 -- Creating LCC sub-graph,adjacency matrix,"
   ]
  },
  {
   "cell_type": "code",
   "execution_count": 5,
   "id": "e10150b5",
   "metadata": {},
   "outputs": [
    {
     "name": "stdout",
     "output_type": "stream",
     "text": [
      "# of connected components: 1\n",
      "19618\n",
      "Name: \n",
      "Type: Graph\n",
      "Number of nodes: 19618\n",
      "Number of edges: 665061\n",
      "Average degree:  67.8011\n"
     ]
    }
   ],
   "source": [
    "# We are creating the graph with nx from the from the filtered PPI dataset and returning the sub graph, adj matrix, nodes and edges of LCC \n",
    "pgenes_sub_graph,pgenes_adj,pnodes,pedges = hga.LCC_to_adj(hs_putative_genes)"
   ]
  },
  {
   "cell_type": "markdown",
   "id": "8d52cd50",
   "metadata": {},
   "source": [
    "#### 1.3 -- Cross Validation"
   ]
  },
  {
   "cell_type": "code",
   "execution_count": 6,
   "id": "ea534f98",
   "metadata": {},
   "outputs": [],
   "source": [
    "ds_genes_train,ds_genes_test = hga.KFold_CV(hs_disease_genes,n_folds=5,shuffle_flag=True)"
   ]
  },
  {
   "cell_type": "markdown",
   "id": "5c22e814",
   "metadata": {},
   "source": [
    "#### 1.4 -- Saving Seed Genes to files for Cytoscape"
   ]
  },
  {
   "cell_type": "code",
   "execution_count": 9,
   "id": "7cfcbcaa",
   "metadata": {},
   "outputs": [],
   "source": [
    "for i in range(len(ds_genes_test)):\n",
    "    np.savetxt(\"test\"+str(i)+\".csv\", \n",
    "            ds_genes_test[i],\n",
    "            delimiter =\", \", \n",
    "            fmt ='% s')\n",
    "    np.savetxt(\"train\"+str(i)+\".csv\", \n",
    "            ds_genes_train[i],\n",
    "            delimiter =\", \", \n",
    "            fmt ='% s')"
   ]
  },
  {
   "cell_type": "markdown",
   "id": "8b9b20df",
   "metadata": {},
   "source": [
    "# Part 2: Algorithms  "
   ]
  },
  {
   "cell_type": "markdown",
   "id": "285203de",
   "metadata": {},
   "source": [
    "### 2.1 -- MCL Algorithm "
   ]
  },
  {
   "cell_type": "code",
   "execution_count": 14,
   "id": "20a50a4d",
   "metadata": {},
   "outputs": [
    {
     "name": "stderr",
     "output_type": "stream",
     "text": [
      "100%|██████████| 13/13 [7:31:19<00:00, 2083.00s/it] \n"
     ]
    }
   ],
   "source": [
    "# Applying MLC Algoritm by given inflation range (1.5, 2.7, step = 0.1)\n",
    "results = Parallel(n_jobs=3)(delayed(hga.MCL)(pgenes_adj,i) for i in tqdm(np.arange(1.5,2.7,0.1)))\n"
   ]
  },
  {
   "cell_type": "code",
   "execution_count": 15,
   "id": "337430da",
   "metadata": {},
   "outputs": [],
   "source": [
    "hga.list_to_pikle(results,'MLC_modularity')"
   ]
  },
  {
   "cell_type": "code",
   "execution_count": 16,
   "id": "49a2ad4c",
   "metadata": {},
   "outputs": [
    {
     "name": "stdout",
     "output_type": "stream",
     "text": [
      "inflation: 1.5 modularity: 0.7318793908083768\n",
      "inflation: 1.6 modularity: 0.7664038191128469\n",
      "inflation: 1.7 modularity: 0.7948113431834943\n",
      "inflation: 1.8 modularity: 0.8254253707325344\n",
      "inflation: 1.9 modularity: 0.8034790682066575\n",
      "inflation: 2.0 modularity: 0.7514658577401434\n",
      "inflation: 2.1 modularity: 0.6951036602617071\n",
      "inflation: 2.2 modularity: 0.641935117124079\n",
      "inflation: 2.3 modularity: 0.5919604667312881\n",
      "inflation: 2.4 modularity: 0.5541978925627196\n",
      "inflation: 2.5 modularity: 0.5206722692342249\n",
      "inflation: 2.6 modularity: 0.49161128642816465\n",
      "inflation: 2.7 modularity: 0.46866783664642075\n"
     ]
    }
   ],
   "source": [
    "results_list_from_pkl = hga.read_pickle_list('MLC_modularity')\n",
    "for i in enumerate(np.arange(1.5,2.7,0.1)):\n",
    "    print(\"inflation:\", round(i[1],2), \"modularity:\", results_list_from_pkl[i[0]])\n",
    "    "
   ]
  },
  {
   "cell_type": "code",
   "execution_count": 46,
   "id": "301e878b",
   "metadata": {},
   "outputs": [
    {
     "data": {
      "image/png": "[encoded data removed]",
      "text/plain": [
       "<Figure size 432x288 with 1 Axes>"
      ]
     },
     "metadata": {},
     "output_type": "display_data"
    }
   ],
   "source": [
    "import matplotlib.pyplot as plt\n",
    "plt.style.use('ggplot')\n",
    "\n",
    "x = np.arange(1.5,2.7,0.1)\n",
    "y = results_list_from_pkl\n",
    "plt.scatter(x,y,color=\"#7b002c\",s=15,marker='x')\n",
    "x,y = 1.7, 0.4\n",
    "plt.xlabel(\"Inflation\")\n",
    "plt.ylabel(\"Modularity\")\n",
    "plt.title('Cluster Inflation Tuning')\n",
    "plt.show()"
   ]
  },
  {
   "cell_type": "markdown",
   "id": "5b793485",
   "metadata": {},
   "source": [
    "### 2.1.1 -- Creating Clusters"
   ]
  },
  {
   "cell_type": "code",
   "execution_count": 11,
   "id": "8c35e12c",
   "metadata": {},
   "outputs": [
    {
     "name": "stdout",
     "output_type": "stream",
     "text": [
      "2106 of clusters obtained with inflation of 1.8\n"
     ]
    }
   ],
   "source": [
    "best_inflation = 1.8\n",
    "result = mc.run_mcl(pgenes_adj, inflation=best_inflation)\n",
    "clusters = mc.get_clusters(result)\n",
    "print(str(len(clusters))+\" of clusters obtained with inflation of \"+str(best_inflation))"
   ]
  },
  {
   "cell_type": "code",
   "execution_count": 12,
   "id": "4f0d594b",
   "metadata": {},
   "outputs": [
    {
     "name": "stdout",
     "output_type": "stream",
     "text": [
      "================================================\n",
      "Fold number:  0\n",
      "6 disease genes in cluster 0 --> 0.165607\n",
      "35 disease genes in cluster 2 --> 0.013666\n",
      "3 disease genes in cluster 6 --> 0.217906\n",
      "6 disease genes in cluster 11 --> 0.165457\n",
      "3 disease genes in cluster 27 --> 0.034026\n",
      "4 disease genes in cluster 46 --> 0.154399\n",
      "7 disease genes in cluster 53 --> 0.115389\n",
      "3 disease genes in cluster 68 --> 0.127471\n",
      "================================================\n",
      "Fold number:  1\n",
      "5 disease genes in cluster 0 --> 0.164454\n",
      "40 disease genes in cluster 2 --> 0.001084\n",
      "3 disease genes in cluster 6 --> 0.217906\n",
      "6 disease genes in cluster 11 --> 0.165457\n",
      "8 disease genes in cluster 53 --> 0.073821\n",
      "3 disease genes in cluster 67 --> 0.22377\n",
      "3 disease genes in cluster 68 --> 0.127471\n",
      "================================================\n",
      "Fold number:  2\n",
      "3 disease genes in cluster 0 --> 0.087338\n",
      "34 disease genes in cluster 2 --> 0.020074\n",
      "4 disease genes in cluster 6 --> 0.136394\n",
      "7 disease genes in cluster 11 --> 0.139195\n",
      "10 disease genes in cluster 53 --> 0.020798\n",
      "3 disease genes in cluster 67 --> 0.22377\n",
      "3 disease genes in cluster 68 --> 0.127471\n",
      "================================================\n",
      "Fold number:  3\n",
      "4 disease genes in cluster 0 --> 0.134684\n",
      "41 disease genes in cluster 2 --> 0.00058\n",
      "3 disease genes in cluster 6 --> 0.217906\n",
      "6 disease genes in cluster 11 --> 0.165457\n",
      "3 disease genes in cluster 27 --> 0.034026\n",
      "4 disease genes in cluster 46 --> 0.154399\n",
      "8 disease genes in cluster 53 --> 0.073821\n",
      "================================================\n",
      "Fold number:  4\n",
      "6 disease genes in cluster 0 --> 0.165553\n",
      "42 disease genes in cluster 2 --> 0.000365\n",
      "3 disease genes in cluster 6 --> 0.21883\n",
      "7 disease genes in cluster 11 --> 0.140597\n",
      "3 disease genes in cluster 27 --> 0.034725\n",
      "4 disease genes in cluster 46 --> 0.156161\n",
      "7 disease genes in cluster 53 --> 0.117308\n",
      "3 disease genes in cluster 67 --> 0.224366\n",
      "================================================\n",
      "The index of the enriched cluster found using MLC is:  [2, 27]\n"
     ]
    }
   ],
   "source": [
    "_, enriched_genes,enriched_cluster_ID = hga.MLC_eval(pgenes_sub_graph,ds_genes_train,clusters)"
   ]
  },
  {
   "cell_type": "code",
   "execution_count": 66,
   "id": "ee052928",
   "metadata": {},
   "outputs": [
    {
     "name": "stdout",
     "output_type": "stream",
     "text": [
      "TP: 51 --- FP: 2055 --- FN: 19567\n",
      "Precision: 0.024217 --- Recall: 0.0026 --- F1 Score: 0.004695\n"
     ]
    }
   ],
   "source": [
    "hga.MCL_evaluation_metrics(pgenes_sub_graph,ds_genes_test,hs_disease_genes,clusters,enriched_cluster_ID)"
   ]
  },
  {
   "cell_type": "markdown",
   "id": "a7fbd66c",
   "metadata": {},
   "source": [
    "### 2.2 -- DIAMOnD Algorithm"
   ]
  },
  {
   "cell_type": "code",
   "execution_count": 7,
   "id": "247a6745",
   "metadata": {},
   "outputs": [
    {
     "name": "stdout",
     "output_type": "stream",
     "text": [
      "DIAMOnD(): ignoring 5 of 111 seed genes that are not in the network\n",
      "DiaBLE(): ignoring 5 of 111 seed genes that are not in the network\n",
      "DIAMOnD(): ignoring 3 of 111 seed genes that are not in the network\n",
      "DiaBLE(): ignoring 3 of 111 seed genes that are not in the network\n",
      "DIAMOnD(): ignoring 4 of 111 seed genes that are not in the network\n",
      "DiaBLE(): ignoring 4 of 111 seed genes that are not in the network\n",
      "DIAMOnD(): ignoring 4 of 111 seed genes that are not in the network\n",
      "DiaBLE(): ignoring 4 of 111 seed genes that are not in the network\n",
      "DIAMOnD(): ignoring 4 of 112 seed genes that are not in the network\n",
      "DiaBLE(): ignoring 4 of 112 seed genes that are not in the network\n",
      "zero division\n",
      "zero division\n",
      "zero division\n",
      "zero division\n",
      "zero division\n",
      "zero division\n",
      "zero division\n",
      "zero division\n",
      "zero division\n",
      "zero division\n",
      "zero division\n",
      "zero division\n",
      "zero division\n",
      "zero division\n",
      "zero division\n",
      "zero division\n",
      "Precision at 50: 0.001802 ± 0.004029\n",
      "Precision at n/10: 0.001802 ± 0.004029\n",
      "Precision at n/4: 0.001802 ± 0.004029\n",
      "Precision at n/2: 0.003604 ± 0.004934\n",
      "Precision at n: 0.008993 ± 0.00637\n",
      "Recall at 50: 0.007143 ± 0.015972\n",
      "Recall at n/10: 0.007143 ± 0.015972\n",
      "Recall at n/4: 0.007143 ± 0.015972\n",
      "Recall at n/2: 0.014286 ± 0.019562\n",
      "Recall at n: 0.035979 ± 0.025261\n",
      "F1 Score at 50: 0.014388\n",
      "F1 Score at n/10: 0.014388\n",
      "F1 Score at n/4: 0.014388\n",
      "F1 Score at n/2: 0.014388 ± 0.0\n",
      "F1 Score at n: 0.017986 ± 0.007194\n",
      "nDCG at 50: 0.004668 ± 0.010438\n",
      "nDCG at n/10: 0.011242 ± 0.025138\n",
      "nDCG at n/4: 0.00605 ± 0.013528\n",
      "nDCG at n/2: 0.005858 ± 0.008516\n",
      "nDCG at n: 0.008272 ± 0.007211\n"
     ]
    }
   ],
   "source": [
    "hga.return_metrics(\"DIAMOnD\", pgenes_sub_graph, hs_disease_genes, ds_genes_train, ds_genes_test, print_flag=True)"
   ]
  },
  {
   "cell_type": "markdown",
   "id": "f66c284d",
   "metadata": {},
   "source": [
    "### 2.3 -- DiaBLE Algorithm"
   ]
  },
  {
   "cell_type": "code",
   "execution_count": 8,
   "id": "72008792",
   "metadata": {},
   "outputs": [
    {
     "name": "stdout",
     "output_type": "stream",
     "text": [
      "DiaBLE(): ignoring 5 of 111 seed genes that are not in the network\n",
      "DiaBLE(): ignoring 3 of 111 seed genes that are not in the network\n",
      "DiaBLE(): ignoring 4 of 111 seed genes that are not in the network\n",
      "DiaBLE(): ignoring 4 of 111 seed genes that are not in the network\n",
      "DiaBLE(): ignoring 4 of 112 seed genes that are not in the network\n",
      "zero division\n",
      "zero division\n",
      "zero division\n",
      "zero division\n",
      "zero division\n",
      "zero division\n",
      "zero division\n",
      "zero division\n",
      "zero division\n",
      "zero division\n",
      "zero division\n",
      "zero division\n",
      "zero division\n",
      "zero division\n",
      "zero division\n",
      "zero division\n",
      "Precision at 50: 0.001802 ± 0.004029\n",
      "Precision at n/10: 0.001802 ± 0.004029\n",
      "Precision at n/4: 0.001802 ± 0.004029\n",
      "Precision at n/2: 0.003604 ± 0.004934\n",
      "Precision at n: 0.008993 ± 0.00637\n",
      "Recall at 50: 0.007143 ± 0.015972\n",
      "Recall at n/10: 0.007143 ± 0.015972\n",
      "Recall at n/4: 0.007143 ± 0.015972\n",
      "Recall at n/2: 0.014286 ± 0.019562\n",
      "Recall at n: 0.035979 ± 0.025261\n",
      "F1 Score at 50: 0.014388\n",
      "F1 Score at n/10: 0.014388\n",
      "F1 Score at n/4: 0.014388\n",
      "F1 Score at n/2: 0.014388 ± 0.0\n",
      "F1 Score at n: 0.017986 ± 0.007194\n",
      "nDCG at 50: 0.004668 ± 0.010438\n",
      "nDCG at n/10: 0.011242 ± 0.025138\n",
      "nDCG at n/4: 0.00605 ± 0.013528\n",
      "nDCG at n/2: 0.005858 ± 0.008516\n",
      "nDCG at n: 0.008272 ± 0.007211\n"
     ]
    }
   ],
   "source": [
    "hga.return_metrics(\"DiaBLE\", pgenes_sub_graph, hs_disease_genes, ds_genes_train, ds_genes_test, print_flag=True)"
   ]
  },
  {
   "cell_type": "markdown",
   "id": "ccb4b75d",
   "metadata": {},
   "source": [
    "### 2.4 -- Cytoscape"
   ]
  },
  {
   "cell_type": "code",
   "execution_count": 9,
   "id": "7484cc7b",
   "metadata": {},
   "outputs": [
    {
     "name": "stdout",
     "output_type": "stream",
     "text": [
      "zero division\n",
      "zero division\n",
      "zero division\n",
      "zero division\n",
      "zero division\n",
      "zero division\n",
      "zero division\n",
      "zero division\n",
      "zero division\n",
      "zero division\n",
      "zero division\n",
      "zero division\n",
      "zero division\n",
      "zero division\n",
      "zero division\n",
      "zero division\n",
      "zero division\n",
      "zero division\n",
      "zero division\n",
      "zero division\n",
      "zero division\n",
      "zero division\n",
      "zero division\n",
      "zero division\n",
      "zero division\n",
      "Precision at 50: 0.0 ± 0.0\n",
      "Precision at n/10: 0.0 ± 0.0\n",
      "Precision at n/4: 0.0 ± 0.0\n",
      "Precision at n/2: 0.0 ± 0.0\n",
      "Precision at n: 0.0 ± 0.0\n",
      "Recall at 50: 0.0 ± 0.0\n",
      "Recall at n/10: 0.0 ± 0.0\n",
      "Recall at n/4: 0.0 ± 0.0\n",
      "Recall at n/2: 0.0 ± 0.0\n",
      "Recall at n: 0.0 ± 0.0\n",
      "No values to record F1\n",
      "No values to record F1\n",
      "No values to record F1\n",
      "No values to record F1\n",
      "No values to record F1\n",
      "nDCG at 50: 0.0 ± 0.0\n",
      "nDCG at n/10: 0.0 ± 0.0\n",
      "nDCG at n/4: 0.0 ± 0.0\n",
      "nDCG at n/2: 0.0 ± 0.0\n",
      "nDCG at n: 0.0 ± 0.0\n"
     ]
    }
   ],
   "source": [
    "hga.return_metrics(\"cytoscape\", pgenes_sub_graph, hs_disease_genes, ds_genes_train, ds_genes_test, print_flag=True)"
   ]
  },
  {
   "cell_type": "markdown",
   "id": "e83e67eb",
   "metadata": {},
   "source": [
    "### 2.6 -- Random Walk with Restart "
   ]
  },
  {
   "cell_type": "code",
   "execution_count": 10,
   "id": "d11e6914",
   "metadata": {},
   "outputs": [
    {
     "name": "stdout",
     "output_type": "stream",
     "text": [
      "zero division\n",
      "zero division\n",
      "zero division\n",
      "zero division\n",
      "zero division\n",
      "zero division\n",
      "zero division\n",
      "zero division\n",
      "zero division\n",
      "zero division\n",
      "zero division\n",
      "zero division\n",
      "zero division\n",
      "zero division\n",
      "zero division\n",
      "zero division\n",
      "zero division\n",
      "zero division\n",
      "zero division\n",
      "zero division\n",
      "zero division\n",
      "zero division\n",
      "zero division\n",
      "zero division\n",
      "zero division\n",
      "Precision at 50: 0.0 ± 0.0\n",
      "Precision at n/10: 0.0 ± 0.0\n",
      "Precision at n/4: 0.0 ± 0.0\n",
      "Precision at n/2: 0.0 ± 0.0\n",
      "Precision at n: 0.0 ± 0.0\n",
      "Recall at 50: 0.0 ± 0.0\n",
      "Recall at n/10: 0.0 ± 0.0\n",
      "Recall at n/4: 0.0 ± 0.0\n",
      "Recall at n/2: 0.0 ± 0.0\n",
      "Recall at n: 0.0 ± 0.0\n",
      "No values to record F1\n",
      "No values to record F1\n",
      "No values to record F1\n",
      "No values to record F1\n",
      "No values to record F1\n",
      "nDCG at 50: 0.0 ± 0.0\n",
      "nDCG at n/10: 0.0 ± 0.0\n",
      "nDCG at n/4: 0.0 ± 0.0\n",
      "nDCG at n/2: 0.0 ± 0.0\n",
      "nDCG at n: 0.0 ± 0.0\n"
     ]
    }
   ],
   "source": [
    "hga.return_metrics(\"rwr\", pgenes_sub_graph, hs_disease_genes, ds_genes_train, ds_genes_test, print_flag=True)"
   ]
  },
  {
   "cell_type": "markdown",
   "id": "46e76193",
   "metadata": {},
   "source": [
    "# Part 3: Extented Validation  "
   ]
  },
  {
   "cell_type": "code",
   "execution_count": 27,
   "id": "c36cb38a",
   "metadata": {},
   "outputs": [],
   "source": [
    "all_gene_disease = hga.query_disease_genes_extendend()"
   ]
  }
 ],
 "metadata": {
  "kernelspec": {
   "display_name": "Python 3",
   "language": "python",
   "name": "python3"
  },
  "language_info": {
   "codemirror_mode": {
    "name": "ipython",
    "version": 3
   },
   "file_extension": ".py",
   "mimetype": "text/x-python",
   "name": "python",
   "nbconvert_exporter": "python",
   "pygments_lexer": "ipython3",
   "version": "3.6.10"
  }
 },
 "nbformat": 4,
 "nbformat_minor": 5
}
