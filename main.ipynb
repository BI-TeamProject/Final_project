{
 "cells": [
  {
   "cell_type": "code",
   "execution_count": 1,
   "id": "99d392e5",
   "metadata": {},
   "outputs": [],
   "source": [
    "from code_py.DIAMOnD import *\n",
    "from code_py.backbone import Human_Genes_Graph_Analysis\n",
    "import markov_clustering as mc\n",
    "from joblib import Parallel, delayed\n",
    "import statistics \n",
    "from tqdm import tqdm\n",
    "\n",
    "sys_path = '/Users/alessandroquattrociocchi/Git/BI/Final_project/'\n"
   ]
  },
  {
   "cell_type": "markdown",
   "id": "d384b9ae",
   "metadata": {},
   "source": [
    "#  Part 1: Preprocessing"
   ]
  },
  {
   "cell_type": "code",
   "execution_count": 2,
   "id": "c20b0dc2",
   "metadata": {},
   "outputs": [],
   "source": [
    "disease_code = \"C3714756\"\n",
    "hga = Human_Genes_Graph_Analysis(sys_path,disease_ID = disease_code)"
   ]
  },
  {
   "cell_type": "markdown",
   "id": "b195418b",
   "metadata": {},
   "source": [
    "#### 1.1 -- Filtering and revoving self-loops"
   ]
  },
  {
   "cell_type": "code",
   "execution_count": 3,
   "id": "982b91f7",
   "metadata": {},
   "outputs": [
    {
     "name": "stdout",
     "output_type": "stream",
     "text": [
      "Number of putative genes: 889884\n"
     ]
    }
   ],
   "source": [
    "# Preprocessing the Biogrid dataset by filtering Homo Sapiens, removing duplicated and self loops\n",
    "hs_putative_genes = hga.preprocessing_dataset(homo_sap=True,drop_duplicates=True,remove_self_loops=True)\n"
   ]
  },
  {
   "cell_type": "markdown",
   "id": "95153c3f",
   "metadata": {},
   "source": [
    "#### 1.2 -- Filtering Disease Genes"
   ]
  },
  {
   "cell_type": "code",
   "execution_count": 4,
   "id": "d23d6ea0",
   "metadata": {},
   "outputs": [
    {
     "name": "stdout",
     "output_type": "stream",
     "text": [
      "Found 447 disease genes in Intellectual Disability\n"
     ]
    }
   ],
   "source": [
    "hs_disease_genes_df,hs_disease_genes = hga.query_disease_genes()"
   ]
  },
  {
   "cell_type": "markdown",
   "id": "c055e88e",
   "metadata": {},
   "source": [
    "#### 1.3 -- Creating LCC sub-graph,adjacency matrix,"
   ]
  },
  {
   "cell_type": "code",
   "execution_count": 5,
   "id": "e10150b5",
   "metadata": {},
   "outputs": [
    {
     "name": "stdout",
     "output_type": "stream",
     "text": [
      "# of connected components: 1\n",
      "19618\n",
      "Graph with 19618 nodes and 665061 edges\n"
     ]
    }
   ],
   "source": [
    "# We are creating the graph with nx from the from the filtered PPI dataset and returning the sub graph, adj matrix, nodes and edges of LCC \n",
    "pgenes_sub_graph,pgenes_adj,pnodes,pedges = hga.LCC_to_adj(hs_putative_genes)"
   ]
  },
  {
   "cell_type": "markdown",
   "id": "8d52cd50",
   "metadata": {},
   "source": [
    "#### 1.3 -- Cross Validation"
   ]
  },
  {
   "cell_type": "code",
   "execution_count": 17,
   "id": "ea534f98",
   "metadata": {},
   "outputs": [],
   "source": [
    "ds_genes_train,ds_genes_test = hga.KFold_CV(hs_disease_genes,n_folds=5,shuffle_flag=True)"
   ]
  },
  {
   "cell_type": "markdown",
   "id": "8b9b20df",
   "metadata": {},
   "source": [
    "# Part 2: Algorithms  "
   ]
  },
  {
   "cell_type": "markdown",
   "id": "285203de",
   "metadata": {},
   "source": [
    "### 2.1 -- MCL Algorithm "
   ]
  },
  {
   "cell_type": "code",
   "execution_count": 10,
   "id": "7641b75e",
   "metadata": {},
   "outputs": [
    {
     "name": "stderr",
     "output_type": "stream",
     "text": [
      "100%|██████████| 9/9 [40:34<00:00, 270.51s/it]\n"
     ]
    }
   ],
   "source": [
    "# Applying MLC Algoritm by given inflation range (1.5, 2.7, step = 0.1)\n",
    "\n",
    "results = Parallel(n_jobs=3)(delayed(hga.MCL)(pgenes_adj,i) for i in tqdm(np.arange(1.8,2.7,0.1)))\n",
    "hga.list_to_pikle(results,'MLC_modularity_'+disease_code)\n"
   ]
  },
  {
   "cell_type": "code",
   "execution_count": 16,
   "id": "49a2ad4c",
   "metadata": {},
   "outputs": [
    {
     "name": "stdout",
     "output_type": "stream",
     "text": [
      "inflation: 1.8 modularity: 1\n",
      "inflation: 1.9 modularity: 2\n",
      "inflation: 2.0 modularity: 3\n",
      "inflation: 2.1 modularity: 4\n",
      "inflation: 2.2 modularity: 5\n",
      "inflation: 2.3 modularity: 6\n",
      "inflation: 2.4 modularity: 7\n",
      "inflation: 2.5 modularity: 8\n",
      "inflation: 2.6 modularity: 9\n"
     ]
    }
   ],
   "source": [
    "results_list_from_pkl = hga.read_pickle_list('MLC_modularity_'+disease_code)\n",
    "for i in enumerate(np.arange(1.8,2.7,0.1)):\n",
    "    print(\"inflation:\", round(i[1],2), \"modularity:\", results_list_from_pkl[i[0]])\n",
    "    "
   ]
  },
  {
   "cell_type": "markdown",
   "id": "5b793485",
   "metadata": {},
   "source": [
    "### 2.1.1 -- Creating Clusters"
   ]
  },
  {
   "cell_type": "code",
   "execution_count": 20,
   "id": "8c35e12c",
   "metadata": {},
   "outputs": [
    {
     "name": "stdout",
     "output_type": "stream",
     "text": [
      "2106\n"
     ]
    }
   ],
   "source": [
    "result = mc.run_mcl(pgenes_adj, inflation=1.8)\n",
    "clusters = mc.get_clusters(result)\n",
    "print(len(clusters))"
   ]
  },
  {
   "cell_type": "code",
   "execution_count": 22,
   "id": "4f0d594b",
   "metadata": {},
   "outputs": [
    {
     "name": "stdout",
     "output_type": "stream",
     "text": [
      "================================================\n",
      "Fold number:  0\n",
      "18 disease genes in cluster 0 --> 0.092752\n",
      "111 disease genes in cluster 2 --> 0.000252\n",
      "6 disease genes in cluster 6 --> 0.119593\n",
      "3 disease genes in cluster 7 --> 0.187683\n",
      "23 disease genes in cluster 11 --> 0.056081\n",
      "5 disease genes in cluster 15 --> 0.178167\n",
      "4 disease genes in cluster 27 --> 0.131161\n",
      "4 disease genes in cluster 46 --> 0.035018\n",
      "20 disease genes in cluster 53 --> 0.06762\n",
      "15 disease genes in cluster 67 --> 0.014179\n",
      "4 disease genes in cluster 68 --> 0.182145\n",
      "5 disease genes in cluster 82 --> 0.177803\n",
      "3 disease genes in cluster 111 --> 0.202044\n",
      "3 disease genes in cluster 198 --> 0.003711\n",
      "4 disease genes in cluster 224 --> 0.198123\n",
      "3 disease genes in cluster 290 --> 0.014835\n",
      "================================================\n",
      "Fold number:  1\n",
      "24 disease genes in cluster 0 --> 0.047008\n",
      "119 disease genes in cluster 2 --> 8e-06\n",
      "4 disease genes in cluster 6 --> 0.052714\n",
      "4 disease genes in cluster 7 --> 0.0954\n",
      "17 disease genes in cluster 11 --> 0.088865\n",
      "8 disease genes in cluster 46 --> 0.136309\n",
      "18 disease genes in cluster 53 --> 0.092589\n",
      "10 disease genes in cluster 67 --> 0.115365\n",
      "4 disease genes in cluster 68 --> 0.182145\n",
      "8 disease genes in cluster 82 --> 0.057935\n",
      "3 disease genes in cluster 111 --> 0.202044\n",
      "3 disease genes in cluster 198 --> 0.003711\n",
      "4 disease genes in cluster 224 --> 0.198123\n",
      "3 disease genes in cluster 290 --> 0.014835\n",
      "================================================\n",
      "Fold number:  2\n",
      "22 disease genes in cluster 0 --> 0.072589\n",
      "112 disease genes in cluster 2 --> 0.00019\n",
      "6 disease genes in cluster 6 --> 0.11886\n",
      "3 disease genes in cluster 7 --> 0.188188\n",
      "22 disease genes in cluster 11 --> 0.069483\n",
      "4 disease genes in cluster 15 --> 0.180437\n",
      "4 disease genes in cluster 27 --> 0.131741\n",
      "6 disease genes in cluster 46 --> 0.094547\n",
      "17 disease genes in cluster 53 --> 0.09948\n",
      "12 disease genes in cluster 67 --> 0.064702\n",
      "5 disease genes in cluster 68 --> 0.178076\n",
      "6 disease genes in cluster 82 --> 0.143207\n",
      "4 disease genes in cluster 111 --> 0.198094\n",
      "3 disease genes in cluster 198 --> 0.003739\n",
      "6 disease genes in cluster 224 --> 0.100781\n",
      "================================================\n",
      "Fold number:  3\n",
      "23 disease genes in cluster 0 --> 0.060219\n",
      "120 disease genes in cluster 2 --> 5e-06\n",
      "7 disease genes in cluster 6 --> 0.139405\n",
      "3 disease genes in cluster 7 --> 0.188188\n",
      "18 disease genes in cluster 11 --> 0.094056\n",
      "4 disease genes in cluster 15 --> 0.180437\n",
      "7 disease genes in cluster 46 --> 0.121511\n",
      "17 disease genes in cluster 53 --> 0.09948\n",
      "10 disease genes in cluster 67 --> 0.115815\n",
      "5 disease genes in cluster 68 --> 0.178076\n",
      "6 disease genes in cluster 82 --> 0.143207\n",
      "3 disease genes in cluster 198 --> 0.003739\n",
      "5 disease genes in cluster 224 --> 0.1554\n",
      "3 disease genes in cluster 290 --> 0.014939\n",
      "================================================\n",
      "Fold number:  4\n",
      "17 disease genes in cluster 0 --> 0.085448\n",
      "118 disease genes in cluster 2 --> 1.4e-05\n",
      "5 disease genes in cluster 6 --> 0.086417\n",
      "3 disease genes in cluster 7 --> 0.188188\n",
      "20 disease genes in cluster 11 --> 0.089852\n",
      "5 disease genes in cluster 15 --> 0.178214\n",
      "4 disease genes in cluster 27 --> 0.131741\n",
      "7 disease genes in cluster 46 --> 0.121511\n",
      "16 disease genes in cluster 53 --> 0.100181\n",
      "13 disease genes in cluster 67 --> 0.042415\n",
      "6 disease genes in cluster 68 --> 0.144478\n",
      "7 disease genes in cluster 82 --> 0.098155\n",
      "4 disease genes in cluster 111 --> 0.198094\n",
      "5 disease genes in cluster 224 --> 0.1554\n",
      "================================================\n",
      "The index of the enriched cluster found using MLC is:  [2, 198, 290]\n"
     ]
    }
   ],
   "source": [
    "_, enriched_genes = hga.MLC_eval(pgenes_sub_graph,ds_genes_train,clusters)"
   ]
  },
  {
   "cell_type": "markdown",
   "id": "a7fbd66c",
   "metadata": {},
   "source": [
    "### 2.2 -- DIAMOnD Algorithm"
   ]
  },
  {
   "cell_type": "code",
   "execution_count": 23,
   "id": "9b803572",
   "metadata": {},
   "outputs": [
    {
     "name": "stdout",
     "output_type": "stream",
     "text": [
      "DIAMOnD(): ignoring 15 of 357 seed genes that are not in the network\n",
      "DIAMOnD(): ignoring 13 of 357 seed genes that are not in the network\n",
      "DIAMOnD(): ignoring 15 of 358 seed genes that are not in the network\n",
      "DIAMOnD(): ignoring 13 of 358 seed genes that are not in the network\n",
      "DIAMOnD(): ignoring 12 of 358 seed genes that are not in the network\n",
      "Precision: 0.016212 ± 0.007222\n",
      "Recall: 0.064994 ± 0.029224\n",
      "F1 Score: 0.025951 ± 0.011581\n"
     ]
    }
   ],
   "source": [
    "precision = []\n",
    "recall = []\n",
    "f1_score = []\n",
    "for i in range(0,5):\n",
    "    added_nodes, predicted_nodes = DIAMOnD(G_original=pgenes_sub_graph,\n",
    "                            seed_genes=ds_genes_train[i],\n",
    "                            max_number_of_added_nodes=len(ds_genes_train[i]),alpha=1)\n",
    "    #TP numero di geni che effettivamente sono disease genes\n",
    "    TP = len(set(predicted_nodes).intersection(set(ds_genes_test[i])))\n",
    "    #numero di geni riportati come veri ma che non sono disease genes \n",
    "    FP = len(ds_genes_train[i]) - TP\n",
    "    FN = len(ds_genes_test[i]) - TP\n",
    "    precision.append(TP/(TP+FP))\n",
    "    recall.append((TP)/(TP+FN))\n",
    "    try:\n",
    "        f1_score.append((2*precision[i]*recall[i])/(precision[i]+recall[i]))\n",
    "    except:\n",
    "        print(\"zero division\")\n",
    "\n",
    "\n",
    "print(\"Precision: \" + str(round(statistics.mean(precision),6)) + \" ± \" +str(round(statistics.stdev(precision),6)))\n",
    "print(\"Recall: \" + str(round(statistics.mean(recall),6)) + \" ± \" +str(round(statistics.stdev(recall),6)))\n",
    "print(\"F1 Score: \" + str(round(statistics.mean(f1_score),6)) + \" ± \" +str(round(statistics.stdev(f1_score),6)))\n"
   ]
  },
  {
   "cell_type": "markdown",
   "id": "f66c284d",
   "metadata": {},
   "source": [
    "### 2.3 -- DiaBLE Algorithm"
   ]
  },
  {
   "cell_type": "code",
   "execution_count": 24,
   "id": "c389436a",
   "metadata": {},
   "outputs": [
    {
     "name": "stdout",
     "output_type": "stream",
     "text": [
      "DIAMOnD(): ignoring 15 of 357 seed genes that are not in the network\n",
      "DIAMOnD(): ignoring 13 of 357 seed genes that are not in the network\n",
      "DIAMOnD(): ignoring 15 of 358 seed genes that are not in the network\n",
      "DIAMOnD(): ignoring 13 of 358 seed genes that are not in the network\n",
      "DIAMOnD(): ignoring 12 of 358 seed genes that are not in the network\n",
      "Precision: 0.016212 ± 0.007222\n",
      "Recall: 0.016212 ± 0.007222\n",
      "F1 Score: 0.025951 ± 0.011581\n"
     ]
    }
   ],
   "source": [
    "precision_diable = []\n",
    "recall_diable = []\n",
    "f1_score_diable = []\n",
    "for i in range(0,5):\n",
    "    added_nodes, predicted_nodes = DIAMOnD(G_original=pgenes_sub_graph,\n",
    "                                           seed_genes=ds_genes_train[i],\n",
    "                                           max_number_of_added_nodes=len(ds_genes_train[i]),\n",
    "                                           alpha=1,DiaBLE=True)\n",
    "                                           \n",
    "    #TP numero di geni che effettivamente sono disease genes\n",
    "    TP = len(set(predicted_nodes).intersection(set(ds_genes_test[i])))\n",
    "    #numero di geni riportati come veri ma che non sono disease genes \n",
    "    FP = len(ds_genes_train[i]) - TP\n",
    "    #numero di geni che \n",
    "    FN = len(ds_genes_train[i]) - TP\n",
    "    precision_diable.append(TP/(TP+FP))\n",
    "    recall_diable.append((TP)/(TP+FN))\n",
    "    try:\n",
    "        f1_score_diable.append((2*precision[i]*recall[i])/(precision[i]+recall[i]))\n",
    "    except:\n",
    "        print(\"zero division\")\n",
    "\n",
    "\n",
    "print(\"Precision: \" + str(round(statistics.mean(precision_diable),6)) + \" ± \" +str(round(statistics.stdev(precision_diable),6)))\n",
    "print(\"Recall: \" + str(round(statistics.mean(recall_diable),6)) + \" ± \" +str(round(statistics.stdev(recall_diable),6)))\n",
    "print(\"F1 Score: \" + str(round(statistics.mean(f1_score_diable),6)) + \" ± \" +str(round(statistics.stdev(f1_score_diable),6)))\n"
   ]
  },
  {
   "cell_type": "markdown",
   "id": "e83e67eb",
   "metadata": {},
   "source": [
    "### 2.6 -- Random Walk with Restart "
   ]
  },
  {
   "cell_type": "code",
   "execution_count": null,
   "id": "28744549",
   "metadata": {},
   "outputs": [],
   "source": [
    "for fold in tqdm(range(0,5)):\n",
    "    rwr_enriched_genes = hga.RWR(pgenes_sub_graph,ds_genes_train[fold],max_print_items=0)\n",
    "    break"
   ]
  }
 ],
 "metadata": {
  "kernelspec": {
   "display_name": "Python 3",
   "language": "python",
   "name": "python3"
  },
  "language_info": {
   "codemirror_mode": {
    "name": "ipython",
    "version": 3
   },
   "file_extension": ".py",
   "mimetype": "text/x-python",
   "name": "python",
   "nbconvert_exporter": "python",
   "pygments_lexer": "ipython3",
   "version": "3.8.5"
  }
 },
 "nbformat": 4,
 "nbformat_minor": 5
}
