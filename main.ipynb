{
 "cells": [
  {
   "cell_type": "code",
   "execution_count": 1,
   "id": "99d392e5",
   "metadata": {},
   "outputs": [],
   "source": [
    "%load_ext autoreload\n",
    "%autoreload 2\n",
    "\n",
    "from code_py.DIAMOnD import *\n",
    "from code_py.backbone import Human_Genes_Graph_Analysis\n",
    "import markov_clustering as mc\n",
    "from joblib import Parallel, delayed\n",
    "import statistics \n",
    "from tqdm import tqdm\n",
    "\n",
    "sys_path = '/Users/alessandroquattrociocchi/Git/BI/Final_project/'\n"
   ]
  },
  {
   "cell_type": "markdown",
   "id": "d384b9ae",
   "metadata": {},
   "source": [
    "#  Part 1: Preprocessing"
   ]
  },
  {
   "cell_type": "code",
   "execution_count": 2,
   "id": "c20b0dc2",
   "metadata": {},
   "outputs": [],
   "source": [
    "disease_code = \"C0860207\"\n",
    "hga = Human_Genes_Graph_Analysis(sys_path,disease_ID = disease_code)"
   ]
  },
  {
   "cell_type": "markdown",
   "id": "b195418b",
   "metadata": {},
   "source": [
    "#### 1.1 -- Filtering and revoving self-loops"
   ]
  },
  {
   "cell_type": "code",
   "execution_count": 3,
   "id": "982b91f7",
   "metadata": {},
   "outputs": [
    {
     "name": "stdout",
     "output_type": "stream",
     "text": [
      "Number of putative genes: 889884\n"
     ]
    }
   ],
   "source": [
    "# Preprocessing the Biogrid dataset by filtering Homo Sapiens, removing duplicated and self loops\n",
    "hs_putative_genes = hga.preprocessing_dataset(homo_sap=True,drop_duplicates=True,remove_self_loops=True)\n"
   ]
  },
  {
   "cell_type": "markdown",
   "id": "95153c3f",
   "metadata": {},
   "source": [
    "#### 1.2 -- Filtering Disease Genes"
   ]
  },
  {
   "cell_type": "code",
   "execution_count": 4,
   "id": "d23d6ea0",
   "metadata": {},
   "outputs": [
    {
     "name": "stdout",
     "output_type": "stream",
     "text": [
      "Found 404 disease genes in Drug-Induced Liver Disease\n"
     ]
    }
   ],
   "source": [
    "hs_disease_genes_df,hs_disease_genes = hga.query_disease_genes()"
   ]
  },
  {
   "cell_type": "markdown",
   "id": "c055e88e",
   "metadata": {},
   "source": [
    "#### 1.3 -- Creating LCC sub-graph,adjacency matrix,"
   ]
  },
  {
   "cell_type": "code",
   "execution_count": 5,
   "id": "e10150b5",
   "metadata": {},
   "outputs": [
    {
     "name": "stdout",
     "output_type": "stream",
     "text": [
      "# of connected components: 1\n",
      "19618\n",
      "Graph with 19618 nodes and 665061 edges\n"
     ]
    }
   ],
   "source": [
    "# We are creating the graph with nx from the from the filtered PPI dataset and returning the sub graph, adj matrix, nodes and edges of LCC \n",
    "pgenes_sub_graph,pgenes_adj,pnodes,pedges = hga.LCC_to_adj(hs_putative_genes)"
   ]
  },
  {
   "cell_type": "markdown",
   "id": "8d52cd50",
   "metadata": {},
   "source": [
    "#### 1.3 -- Cross Validation"
   ]
  },
  {
   "cell_type": "code",
   "execution_count": 6,
   "id": "ea534f98",
   "metadata": {},
   "outputs": [],
   "source": [
    "ds_genes_train,ds_genes_test = hga.KFold_CV(hs_disease_genes,n_folds=5,shuffle_flag=True)"
   ]
  },
  {
   "cell_type": "markdown",
   "id": "8b9b20df",
   "metadata": {},
   "source": [
    "# Part 2: Algorithms  "
   ]
  },
  {
   "cell_type": "markdown",
   "id": "285203de",
   "metadata": {},
   "source": [
    "### 2.1 -- MCL Algorithm "
   ]
  },
  {
   "cell_type": "code",
   "execution_count": 7,
   "id": "8a803e88",
   "metadata": {},
   "outputs": [
    {
     "name": "stderr",
     "output_type": "stream",
     "text": [
      " 54%|█████▍    | 7/13 [1:36:20<1:17:49, 778.21s/it]"
     ]
    },
    {
     "ename": "KeyboardInterrupt",
     "evalue": "",
     "output_type": "error",
     "traceback": [
      "\u001b[0;31m---------------------------------------------------------------------------\u001b[0m",
      "\u001b[0;31mKeyboardInterrupt\u001b[0m                         Traceback (most recent call last)",
      "\u001b[0;32m<ipython-input-7-4b4b2ed0e952>\u001b[0m in \u001b[0;36m<module>\u001b[0;34m\u001b[0m\n\u001b[1;32m      1\u001b[0m \u001b[0;31m# Applying MLC Algoritm by given inflation range (1.5, 2.7, step = 0.1)\u001b[0m\u001b[0;34m\u001b[0m\u001b[0;34m\u001b[0m\u001b[0;34m\u001b[0m\u001b[0m\n\u001b[0;32m----> 2\u001b[0;31m \u001b[0mresults\u001b[0m \u001b[0;34m=\u001b[0m \u001b[0mParallel\u001b[0m\u001b[0;34m(\u001b[0m\u001b[0mn_jobs\u001b[0m\u001b[0;34m=\u001b[0m\u001b[0;36m3\u001b[0m\u001b[0;34m)\u001b[0m\u001b[0;34m(\u001b[0m\u001b[0mdelayed\u001b[0m\u001b[0;34m(\u001b[0m\u001b[0mhga\u001b[0m\u001b[0;34m.\u001b[0m\u001b[0mMCL\u001b[0m\u001b[0;34m)\u001b[0m\u001b[0;34m(\u001b[0m\u001b[0mpgenes_adj\u001b[0m\u001b[0;34m,\u001b[0m\u001b[0mi\u001b[0m\u001b[0;34m)\u001b[0m \u001b[0;32mfor\u001b[0m \u001b[0mi\u001b[0m \u001b[0;32min\u001b[0m \u001b[0mtqdm\u001b[0m\u001b[0;34m(\u001b[0m\u001b[0mnp\u001b[0m\u001b[0;34m.\u001b[0m\u001b[0marange\u001b[0m\u001b[0;34m(\u001b[0m\u001b[0;36m1.5\u001b[0m\u001b[0;34m,\u001b[0m\u001b[0;36m2.7\u001b[0m\u001b[0;34m,\u001b[0m\u001b[0;36m0.1\u001b[0m\u001b[0;34m)\u001b[0m\u001b[0;34m)\u001b[0m\u001b[0;34m)\u001b[0m\u001b[0;34m\u001b[0m\u001b[0;34m\u001b[0m\u001b[0m\n\u001b[0m\u001b[1;32m      3\u001b[0m \u001b[0mhga\u001b[0m\u001b[0;34m.\u001b[0m\u001b[0mlist_to_pikle\u001b[0m\u001b[0;34m(\u001b[0m\u001b[0mresults\u001b[0m\u001b[0;34m,\u001b[0m\u001b[0;34m'MLC_modularity'\u001b[0m\u001b[0;34m)\u001b[0m\u001b[0;34m\u001b[0m\u001b[0;34m\u001b[0m\u001b[0m\n",
      "\u001b[0;32m~/opt/anaconda3/envs/bio_env/lib/python3.8/site-packages/joblib/parallel.py\u001b[0m in \u001b[0;36m__call__\u001b[0;34m(self, iterable)\u001b[0m\n\u001b[1;32m   1054\u001b[0m \u001b[0;34m\u001b[0m\u001b[0m\n\u001b[1;32m   1055\u001b[0m             \u001b[0;32mwith\u001b[0m \u001b[0mself\u001b[0m\u001b[0;34m.\u001b[0m\u001b[0m_backend\u001b[0m\u001b[0;34m.\u001b[0m\u001b[0mretrieval_context\u001b[0m\u001b[0;34m(\u001b[0m\u001b[0;34m)\u001b[0m\u001b[0;34m:\u001b[0m\u001b[0;34m\u001b[0m\u001b[0;34m\u001b[0m\u001b[0m\n\u001b[0;32m-> 1056\u001b[0;31m                 \u001b[0mself\u001b[0m\u001b[0;34m.\u001b[0m\u001b[0mretrieve\u001b[0m\u001b[0;34m(\u001b[0m\u001b[0;34m)\u001b[0m\u001b[0;34m\u001b[0m\u001b[0;34m\u001b[0m\u001b[0m\n\u001b[0m\u001b[1;32m   1057\u001b[0m             \u001b[0;31m# Make sure that we get a last message telling us we are done\u001b[0m\u001b[0;34m\u001b[0m\u001b[0;34m\u001b[0m\u001b[0;34m\u001b[0m\u001b[0m\n\u001b[1;32m   1058\u001b[0m             \u001b[0melapsed_time\u001b[0m \u001b[0;34m=\u001b[0m \u001b[0mtime\u001b[0m\u001b[0;34m.\u001b[0m\u001b[0mtime\u001b[0m\u001b[0;34m(\u001b[0m\u001b[0;34m)\u001b[0m \u001b[0;34m-\u001b[0m \u001b[0mself\u001b[0m\u001b[0;34m.\u001b[0m\u001b[0m_start_time\u001b[0m\u001b[0;34m\u001b[0m\u001b[0;34m\u001b[0m\u001b[0m\n",
      "\u001b[0;32m~/opt/anaconda3/envs/bio_env/lib/python3.8/site-packages/joblib/parallel.py\u001b[0m in \u001b[0;36mretrieve\u001b[0;34m(self)\u001b[0m\n\u001b[1;32m    933\u001b[0m             \u001b[0;32mtry\u001b[0m\u001b[0;34m:\u001b[0m\u001b[0;34m\u001b[0m\u001b[0;34m\u001b[0m\u001b[0m\n\u001b[1;32m    934\u001b[0m                 \u001b[0;32mif\u001b[0m \u001b[0mgetattr\u001b[0m\u001b[0;34m(\u001b[0m\u001b[0mself\u001b[0m\u001b[0;34m.\u001b[0m\u001b[0m_backend\u001b[0m\u001b[0;34m,\u001b[0m \u001b[0;34m'supports_timeout'\u001b[0m\u001b[0;34m,\u001b[0m \u001b[0;32mFalse\u001b[0m\u001b[0;34m)\u001b[0m\u001b[0;34m:\u001b[0m\u001b[0;34m\u001b[0m\u001b[0;34m\u001b[0m\u001b[0m\n\u001b[0;32m--> 935\u001b[0;31m                     \u001b[0mself\u001b[0m\u001b[0;34m.\u001b[0m\u001b[0m_output\u001b[0m\u001b[0;34m.\u001b[0m\u001b[0mextend\u001b[0m\u001b[0;34m(\u001b[0m\u001b[0mjob\u001b[0m\u001b[0;34m.\u001b[0m\u001b[0mget\u001b[0m\u001b[0;34m(\u001b[0m\u001b[0mtimeout\u001b[0m\u001b[0;34m=\u001b[0m\u001b[0mself\u001b[0m\u001b[0;34m.\u001b[0m\u001b[0mtimeout\u001b[0m\u001b[0;34m)\u001b[0m\u001b[0;34m)\u001b[0m\u001b[0;34m\u001b[0m\u001b[0;34m\u001b[0m\u001b[0m\n\u001b[0m\u001b[1;32m    936\u001b[0m                 \u001b[0;32melse\u001b[0m\u001b[0;34m:\u001b[0m\u001b[0;34m\u001b[0m\u001b[0;34m\u001b[0m\u001b[0m\n\u001b[1;32m    937\u001b[0m                     \u001b[0mself\u001b[0m\u001b[0;34m.\u001b[0m\u001b[0m_output\u001b[0m\u001b[0;34m.\u001b[0m\u001b[0mextend\u001b[0m\u001b[0;34m(\u001b[0m\u001b[0mjob\u001b[0m\u001b[0;34m.\u001b[0m\u001b[0mget\u001b[0m\u001b[0;34m(\u001b[0m\u001b[0;34m)\u001b[0m\u001b[0;34m)\u001b[0m\u001b[0;34m\u001b[0m\u001b[0;34m\u001b[0m\u001b[0m\n",
      "\u001b[0;32m~/opt/anaconda3/envs/bio_env/lib/python3.8/site-packages/joblib/_parallel_backends.py\u001b[0m in \u001b[0;36mwrap_future_result\u001b[0;34m(future, timeout)\u001b[0m\n\u001b[1;32m    540\u001b[0m         AsyncResults.get from multiprocessing.\"\"\"\n\u001b[1;32m    541\u001b[0m         \u001b[0;32mtry\u001b[0m\u001b[0;34m:\u001b[0m\u001b[0;34m\u001b[0m\u001b[0;34m\u001b[0m\u001b[0m\n\u001b[0;32m--> 542\u001b[0;31m             \u001b[0;32mreturn\u001b[0m \u001b[0mfuture\u001b[0m\u001b[0;34m.\u001b[0m\u001b[0mresult\u001b[0m\u001b[0;34m(\u001b[0m\u001b[0mtimeout\u001b[0m\u001b[0;34m=\u001b[0m\u001b[0mtimeout\u001b[0m\u001b[0;34m)\u001b[0m\u001b[0;34m\u001b[0m\u001b[0;34m\u001b[0m\u001b[0m\n\u001b[0m\u001b[1;32m    543\u001b[0m         \u001b[0;32mexcept\u001b[0m \u001b[0mCfTimeoutError\u001b[0m \u001b[0;32mas\u001b[0m \u001b[0me\u001b[0m\u001b[0;34m:\u001b[0m\u001b[0;34m\u001b[0m\u001b[0;34m\u001b[0m\u001b[0m\n\u001b[1;32m    544\u001b[0m             \u001b[0;32mraise\u001b[0m \u001b[0mTimeoutError\u001b[0m \u001b[0;32mfrom\u001b[0m \u001b[0me\u001b[0m\u001b[0;34m\u001b[0m\u001b[0;34m\u001b[0m\u001b[0m\n",
      "\u001b[0;32m~/opt/anaconda3/envs/bio_env/lib/python3.8/concurrent/futures/_base.py\u001b[0m in \u001b[0;36mresult\u001b[0;34m(self, timeout)\u001b[0m\n\u001b[1;32m    432\u001b[0m                 \u001b[0;32mreturn\u001b[0m \u001b[0mself\u001b[0m\u001b[0;34m.\u001b[0m\u001b[0m__get_result\u001b[0m\u001b[0;34m(\u001b[0m\u001b[0;34m)\u001b[0m\u001b[0;34m\u001b[0m\u001b[0;34m\u001b[0m\u001b[0m\n\u001b[1;32m    433\u001b[0m \u001b[0;34m\u001b[0m\u001b[0m\n\u001b[0;32m--> 434\u001b[0;31m             \u001b[0mself\u001b[0m\u001b[0;34m.\u001b[0m\u001b[0m_condition\u001b[0m\u001b[0;34m.\u001b[0m\u001b[0mwait\u001b[0m\u001b[0;34m(\u001b[0m\u001b[0mtimeout\u001b[0m\u001b[0;34m)\u001b[0m\u001b[0;34m\u001b[0m\u001b[0;34m\u001b[0m\u001b[0m\n\u001b[0m\u001b[1;32m    435\u001b[0m \u001b[0;34m\u001b[0m\u001b[0m\n\u001b[1;32m    436\u001b[0m             \u001b[0;32mif\u001b[0m \u001b[0mself\u001b[0m\u001b[0;34m.\u001b[0m\u001b[0m_state\u001b[0m \u001b[0;32min\u001b[0m \u001b[0;34m[\u001b[0m\u001b[0mCANCELLED\u001b[0m\u001b[0;34m,\u001b[0m \u001b[0mCANCELLED_AND_NOTIFIED\u001b[0m\u001b[0;34m]\u001b[0m\u001b[0;34m:\u001b[0m\u001b[0;34m\u001b[0m\u001b[0;34m\u001b[0m\u001b[0m\n",
      "\u001b[0;32m~/opt/anaconda3/envs/bio_env/lib/python3.8/threading.py\u001b[0m in \u001b[0;36mwait\u001b[0;34m(self, timeout)\u001b[0m\n\u001b[1;32m    300\u001b[0m         \u001b[0;32mtry\u001b[0m\u001b[0;34m:\u001b[0m    \u001b[0;31m# restore state no matter what (e.g., KeyboardInterrupt)\u001b[0m\u001b[0;34m\u001b[0m\u001b[0;34m\u001b[0m\u001b[0m\n\u001b[1;32m    301\u001b[0m             \u001b[0;32mif\u001b[0m \u001b[0mtimeout\u001b[0m \u001b[0;32mis\u001b[0m \u001b[0;32mNone\u001b[0m\u001b[0;34m:\u001b[0m\u001b[0;34m\u001b[0m\u001b[0;34m\u001b[0m\u001b[0m\n\u001b[0;32m--> 302\u001b[0;31m                 \u001b[0mwaiter\u001b[0m\u001b[0;34m.\u001b[0m\u001b[0macquire\u001b[0m\u001b[0;34m(\u001b[0m\u001b[0;34m)\u001b[0m\u001b[0;34m\u001b[0m\u001b[0;34m\u001b[0m\u001b[0m\n\u001b[0m\u001b[1;32m    303\u001b[0m                 \u001b[0mgotit\u001b[0m \u001b[0;34m=\u001b[0m \u001b[0;32mTrue\u001b[0m\u001b[0;34m\u001b[0m\u001b[0;34m\u001b[0m\u001b[0m\n\u001b[1;32m    304\u001b[0m             \u001b[0;32melse\u001b[0m\u001b[0;34m:\u001b[0m\u001b[0;34m\u001b[0m\u001b[0;34m\u001b[0m\u001b[0m\n",
      "\u001b[0;31mKeyboardInterrupt\u001b[0m: "
     ]
    }
   ],
   "source": [
    "# Applying MLC Algoritm by given inflation range (1.5, 2.7, step = 0.1)\n",
    "results = Parallel(n_jobs=3)(delayed(hga.MCL)(pgenes_adj,i) for i in tqdm(np.arange(1.5,2.7,0.1)))\n",
    "hga.list_to_pikle(results,'MLC_modularity')"
   ]
  },
  {
   "cell_type": "code",
   "execution_count": 8,
   "id": "49a2ad4c",
   "metadata": {},
   "outputs": [
    {
     "name": "stdout",
     "output_type": "stream",
     "text": [
      "inflation: 1.8 modularity: 1\n",
      "inflation: 1.9 modularity: 2\n",
      "inflation: 2.0 modularity: 3\n",
      "inflation: 2.1 modularity: 4\n",
      "inflation: 2.2 modularity: 5\n",
      "inflation: 2.3 modularity: 6\n",
      "inflation: 2.4 modularity: 7\n",
      "inflation: 2.5 modularity: 8\n",
      "inflation: 2.6 modularity: 9\n"
     ]
    }
   ],
   "source": [
    "results_list_from_pkl = hga.read_pickle_list('MLC_modularity')\n",
    "for i in enumerate(np.arange(1.5,2.7,0.1)):\n",
    "    print(\"inflation:\", round(i[1],2), \"modularity:\", results_list_from_pkl[i[0]])\n",
    "    "
   ]
  },
  {
   "cell_type": "markdown",
   "id": "5b793485",
   "metadata": {},
   "source": [
    "### 2.1.1 -- Creating Clusters"
   ]
  },
  {
   "cell_type": "code",
   "execution_count": 7,
   "id": "8c35e12c",
   "metadata": {},
   "outputs": [
    {
     "name": "stdout",
     "output_type": "stream",
     "text": [
      "2106 of clusters obtained with inflation of 1.8\n"
     ]
    }
   ],
   "source": [
    "best_inflation = 1.8\n",
    "result = mc.run_mcl(pgenes_adj, inflation=best_inflation)\n",
    "clusters = mc.get_clusters(result)\n",
    "print(str(len(clusters))+\" of clusters obtained with inflation of \"+str(best_inflation))"
   ]
  },
  {
   "cell_type": "code",
   "execution_count": 8,
   "id": "4f0d594b",
   "metadata": {},
   "outputs": [
    {
     "name": "stdout",
     "output_type": "stream",
     "text": [
      "================================================\n",
      "Fold number:  0\n",
      "14 disease genes in cluster 0 --> 0.074492\n",
      "49 disease genes in cluster 2 --> 4.5e-05\n",
      "3 disease genes in cluster 6 --> 0.041294\n",
      "13 disease genes in cluster 11 --> 0.062805\n",
      "10 disease genes in cluster 46 --> 0.100847\n",
      "36 disease genes in cluster 53 --> 1e-06\n",
      "6 disease genes in cluster 67 --> 0.128427\n",
      "4 disease genes in cluster 68 --> 0.19436\n",
      "3 disease genes in cluster 132 --> 0.004374\n",
      "7 disease genes in cluster 343 --> 2.9e-05\n",
      "================================================\n",
      "Fold number:  1\n",
      "10 disease genes in cluster 0 --> 0.01765\n",
      "50 disease genes in cluster 2 --> 7.6e-05\n",
      "3 disease genes in cluster 6 --> 0.041294\n",
      "13 disease genes in cluster 11 --> 0.062805\n",
      "3 disease genes in cluster 34 --> 0.075953\n",
      "13 disease genes in cluster 46 --> 0.028692\n",
      "31 disease genes in cluster 53 --> 7.9e-05\n",
      "4 disease genes in cluster 67 --> 0.060804\n",
      "4 disease genes in cluster 68 --> 0.19436\n",
      "5 disease genes in cluster 132 --> 1.8e-05\n",
      "7 disease genes in cluster 343 --> 2.9e-05\n",
      "3 disease genes in cluster 1131 --> 0.003811\n",
      "================================================\n",
      "Fold number:  2\n",
      "11 disease genes in cluster 0 --> 0.028813\n",
      "51 disease genes in cluster 2 --> 0.000128\n",
      "9 disease genes in cluster 11 --> 0.011109\n",
      "3 disease genes in cluster 34 --> 0.075953\n",
      "12 disease genes in cluster 46 --> 0.047624\n",
      "35 disease genes in cluster 53 --> 2e-06\n",
      "7 disease genes in cluster 67 --> 0.14488\n",
      "4 disease genes in cluster 68 --> 0.19436\n",
      "3 disease genes in cluster 111 --> 0.217352\n",
      "5 disease genes in cluster 132 --> 1.8e-05\n",
      "6 disease genes in cluster 343 --> 0.000248\n",
      "3 disease genes in cluster 920 --> 0.020968\n",
      "4 disease genes in cluster 1131 --> 0.000269\n",
      "================================================\n",
      "Fold number:  3\n",
      "13 disease genes in cluster 0 --> 0.058814\n",
      "49 disease genes in cluster 2 --> 4.5e-05\n",
      "13 disease genes in cluster 11 --> 0.062805\n",
      "3 disease genes in cluster 34 --> 0.075953\n",
      "9 disease genes in cluster 46 --> 0.12671\n",
      "31 disease genes in cluster 53 --> 7.9e-05\n",
      "7 disease genes in cluster 67 --> 0.14488\n",
      "5 disease genes in cluster 68 --> 0.171347\n",
      "6 disease genes in cluster 132 --> 1e-06\n",
      "8 disease genes in cluster 343 --> 3e-06\n",
      "3 disease genes in cluster 920 --> 0.020968\n",
      "4 disease genes in cluster 1131 --> 0.000269\n",
      "================================================\n",
      "Fold number:  4\n",
      "12 disease genes in cluster 0 --> 0.042174\n",
      "49 disease genes in cluster 2 --> 4e-05\n",
      "3 disease genes in cluster 6 --> 0.040725\n",
      "12 disease genes in cluster 11 --> 0.045767\n",
      "8 disease genes in cluster 46 --> 0.142513\n",
      "35 disease genes in cluster 53 --> 3e-06\n",
      "4 disease genes in cluster 67 --> 0.060061\n",
      "3 disease genes in cluster 68 --> 0.174363\n",
      "3 disease genes in cluster 111 --> 0.216985\n",
      "5 disease genes in cluster 132 --> 1.9e-05\n",
      "8 disease genes in cluster 343 --> 3e-06\n",
      "3 disease genes in cluster 1131 --> 0.003844\n",
      "================================================\n",
      "The index of the enriched cluster found using MLC is:  [0, 2, 6, 11, 53, 132, 343, 1131, 920]\n"
     ]
    }
   ],
   "source": [
    "_, enriched_genes,enriched_cluster_ID = hga.MLC_eval(pgenes_sub_graph,ds_genes_train,clusters)"
   ]
  },
  {
   "cell_type": "code",
   "execution_count": 9,
   "id": "289fe7f3",
   "metadata": {},
   "outputs": [
    {
     "name": "stdout",
     "output_type": "stream",
     "text": [
      "TP: 8244 --- FP: 8085 --- FN: 11374\n",
      "Precision: 0.5049 --- Recall: 0.4202 --- F1 Score: 0.4587\n"
     ]
    }
   ],
   "source": [
    "hga.MCL_evaluation_metrics(pgenes_sub_graph,hs_disease_genes,clusters,enriched_cluster_ID)"
   ]
  },
  {
   "cell_type": "markdown",
   "id": "a7fbd66c",
   "metadata": {},
   "source": [
    "### 2.2 -- DIAMOnD Algorithm"
   ]
  },
  {
   "cell_type": "code",
   "execution_count": 15,
   "id": "9b803572",
   "metadata": {},
   "outputs": [
    {
     "name": "stdout",
     "output_type": "stream",
     "text": [
      "DIAMOnD(): ignoring 68 of 323 seed genes that are not in the network\n",
      "DIAMOnD(): ignoring 72 of 323 seed genes that are not in the network\n",
      "DIAMOnD(): ignoring 69 of 323 seed genes that are not in the network\n",
      "DIAMOnD(): ignoring 68 of 323 seed genes that are not in the network\n",
      "DIAMOnD(): ignoring 63 of 324 seed genes that are not in the network\n",
      "Precision: 0.012997 ± 0.003399\n",
      "Recall: 0.051944 ± 0.013398\n",
      "F1 Score: 0.020792 ± 0.005423\n"
     ]
    }
   ],
   "source": [
    "precision = []\n",
    "recall = []\n",
    "f1_score = []\n",
    "for i in range(0,5):\n",
    "    added_nodes, predicted_nodes = DIAMOnD(G_original=pgenes_sub_graph,\n",
    "                            seed_genes=ds_genes_train[i],\n",
    "                            max_number_of_added_nodes=len(ds_genes_train[i]),alpha=1)\n",
    "    #TP numero di geni che effettivamente sono disease genes\n",
    "    TP = len(set(predicted_nodes).intersection(set(ds_genes_test[i])))\n",
    "    #numero di geni riportati come veri ma che non sono disease genes \n",
    "    FP = len(ds_genes_train[i]) - TP\n",
    "    FN = len(ds_genes_test[i]) - TP\n",
    "    precision.append(TP/(TP+FP))\n",
    "    recall.append((TP)/(TP+FN))\n",
    "    try:\n",
    "        f1_score.append((2*precision[i]*recall[i])/(precision[i]+recall[i]))\n",
    "    except:\n",
    "        print(\"zero division\")\n",
    "\n",
    "\n",
    "print(\"Precision: \" + str(round(statistics.mean(precision),6)) + \" ± \" +str(round(statistics.stdev(precision),6)))\n",
    "print(\"Recall: \" + str(round(statistics.mean(recall),6)) + \" ± \" +str(round(statistics.stdev(recall),6)))\n",
    "print(\"F1 Score: \" + str(round(statistics.mean(f1_score),6)) + \" ± \" +str(round(statistics.stdev(f1_score),6)))\n"
   ]
  },
  {
   "cell_type": "markdown",
   "id": "f66c284d",
   "metadata": {},
   "source": [
    "### 2.3 -- DiaBLE Algorithm"
   ]
  },
  {
   "cell_type": "code",
   "execution_count": null,
   "id": "0f252b2f",
   "metadata": {},
   "outputs": [],
   "source": [
    "precision_diable = []\n",
    "recall_diable = []\n",
    "f1_score_diable = []\n",
    "for i in range(0,5):\n",
    "    added_nodes, predicted_nodes = DIAMOnD(G_original=pgenes_sub_graph,\n",
    "                                           seed_genes=ds_genes_train[i],\n",
    "                                           max_number_of_added_nodes=len(ds_genes_train[i]),\n",
    "                                           alpha=1,DiaBLE=True)\n",
    "                                           \n",
    "    #TP numero di geni che effettivamente sono disease genes\n",
    "    TP = len(set(predicted_nodes).intersection(set(ds_genes_test[i])))\n",
    "    #numero di geni riportati come veri ma che non sono disease genes \n",
    "    FP = len(ds_genes_train[i]) - TP\n",
    "    #numero di geni che \n",
    "    FN = len(ds_genes_train[i]) - TP\n",
    "    precision_diable.append(TP/(TP+FP))\n",
    "    recall_diable.append((TP)/(TP+FN))\n",
    "    try:\n",
    "        f1_score_diable.append((2*precision[i]*recall[i])/(precision[i]+recall[i]))\n",
    "    except:\n",
    "        print(\"zero division\")\n",
    "\n",
    "\n",
    "print(\"Precision: \" + str(round(statistics.mean(precision_diable),6)) + \" ± \" +str(round(statistics.stdev(precision_diable),6)))\n",
    "print(\"Recall: \" + str(round(statistics.mean(recall_diable),6)) + \" ± \" +str(round(statistics.stdev(recall_diable),6)))\n",
    "print(\"F1 Score: \" + str(round(statistics.mean(f1_score_diable),6)) + \" ± \" +str(round(statistics.stdev(f1_score_diable),6)))\n"
   ]
  },
  {
   "cell_type": "markdown",
   "id": "e83e67eb",
   "metadata": {},
   "source": [
    "### 2.6 -- Random Walk with Restart "
   ]
  },
  {
   "cell_type": "code",
   "execution_count": null,
   "id": "28744549",
   "metadata": {},
   "outputs": [],
   "source": [
    "for fold in tqdm(range(0,5)):\n",
    "    rwr_enriched_genes = hga.RWR(pgenes_sub_graph,ds_genes_train[fold],max_print_items=0)\n",
    "    break"
   ]
  },
  {
   "cell_type": "markdown",
   "id": "46e76193",
   "metadata": {},
   "source": [
    "# Part 3: Extented Validation  "
   ]
  },
  {
   "cell_type": "code",
   "execution_count": 27,
   "id": "c36cb38a",
   "metadata": {},
   "outputs": [],
   "source": [
    "all_gene_disease = hga.query_disease_genes_extendend()"
   ]
  }
 ],
 "metadata": {
  "kernelspec": {
   "display_name": "Python 3",
   "language": "python",
   "name": "python3"
  },
  "language_info": {
   "codemirror_mode": {
    "name": "ipython",
    "version": 3
   },
   "file_extension": ".py",
   "mimetype": "text/x-python",
   "name": "python",
   "nbconvert_exporter": "python",
   "pygments_lexer": "ipython3",
   "version": "3.8.5"
  }
 },
 "nbformat": 4,
 "nbformat_minor": 5
}
