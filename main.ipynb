{
 "cells": [
  {
   "cell_type": "code",
   "execution_count": 1,
   "id": "99d392e5",
   "metadata": {},
   "outputs": [],
   "source": [
    "%load_ext autoreload\n",
    "%autoreload 2\n",
    "\n",
    "from code_py.DIAMOnD import *\n",
    "from code_py.backbone import Human_Genes_Graph_Analysis\n",
    "import markov_clustering as mc\n",
    "from joblib import Parallel, delayed\n",
    "import statistics \n",
    "from tqdm import tqdm\n",
    "from prettytable import PrettyTable\n",
    "\n",
    "sys_path = '/Users/alessandroquattrociocchi/Git/BI/Final_project/'\n"
   ]
  },
  {
   "cell_type": "markdown",
   "id": "d384b9ae",
   "metadata": {},
   "source": [
    "#  Part 1: Preprocessing"
   ]
  },
  {
   "cell_type": "code",
   "execution_count": 2,
   "id": "c20b0dc2",
   "metadata": {},
   "outputs": [],
   "source": [
    "disease_code = \"C1510586\"\n",
    "hga = Human_Genes_Graph_Analysis(sys_path,disease_ID = disease_code)"
   ]
  },
  {
   "cell_type": "markdown",
   "id": "b195418b",
   "metadata": {},
   "source": [
    "#### 1.1 -- Filtering and removing self-loops"
   ]
  },
  {
   "cell_type": "code",
   "execution_count": 3,
   "id": "982b91f7",
   "metadata": {},
   "outputs": [
    {
     "name": "stdout",
     "output_type": "stream",
     "text": [
      "Number of putative genes: 889884\n"
     ]
    }
   ],
   "source": [
    "# Preprocessing the Biogrid dataset by filtering Homo Sapiens, removing duplicated and self loops\n",
    "hs_putative_genes = hga.preprocessing_dataset(homo_sap=True,drop_duplicates=True,remove_self_loops=True)"
   ]
  },
  {
   "cell_type": "markdown",
   "id": "95153c3f",
   "metadata": {},
   "source": [
    "#### 1.2 -- Filtering Disease Genes"
   ]
  },
  {
   "cell_type": "code",
   "execution_count": 4,
   "id": "d23d6ea0",
   "metadata": {},
   "outputs": [
    {
     "name": "stdout",
     "output_type": "stream",
     "text": [
      "Found 85 disease genes in Autism Spectrum Disorders\n"
     ]
    }
   ],
   "source": [
    "hs_disease_genes_df,hs_disease_genes = hga.query_disease_genes()"
   ]
  },
  {
   "cell_type": "markdown",
   "id": "c055e88e",
   "metadata": {},
   "source": [
    "#### 1.3 -- Creating LCC sub-graph,adjacency matrix,"
   ]
  },
  {
   "cell_type": "code",
   "execution_count": 5,
   "id": "e10150b5",
   "metadata": {},
   "outputs": [
    {
     "name": "stdout",
     "output_type": "stream",
     "text": [
      "# of connected components: 1\n",
      "19618\n",
      "Graph with 19618 nodes and 665061 edges\n"
     ]
    }
   ],
   "source": [
    "# We are creating the graph with nx from the from the filtered PPI dataset and returning the sub graph, adj matrix, nodes and edges of LCC \n",
    "pgenes_sub_graph,pgenes_adj,pnodes,pedges = hga.LCC_to_adj(hs_putative_genes)"
   ]
  },
  {
   "cell_type": "markdown",
   "id": "8d52cd50",
   "metadata": {},
   "source": [
    "#### 1.3 -- Cross Validation"
   ]
  },
  {
   "cell_type": "code",
   "execution_count": 6,
   "id": "ea534f98",
   "metadata": {},
   "outputs": [],
   "source": [
    "ds_genes_train,ds_genes_test = hga.KFold_CV(hs_disease_genes,n_folds=5,shuffle_flag=True)"
   ]
  },
  {
   "cell_type": "markdown",
   "id": "5c22e814",
   "metadata": {},
   "source": [
    "#### 1.4 -- Saving Seed Genes to files for Cytoscape"
   ]
  },
  {
   "cell_type": "code",
   "execution_count": 33,
   "id": "7cfcbcaa",
   "metadata": {},
   "outputs": [],
   "source": [
    "for i in range(len(ds_genes_test)):\n",
    "    #np.savetxt(\"cytoscape/test\"+str(disease_code)+str(i)+\".csv\", \n",
    "    #        ds_genes_test[i],\n",
    "    #        delimiter =\", \", \n",
    "    #        fmt ='% s')\n",
    "    np.savetxt(\"cytoscape/\"+str(disease_code)+\"/train\"+str(disease_code)+\"_\"+str(i)+\".csv\", \n",
    "            ds_genes_train[i],\n",
    "            delimiter =\", \", \n",
    "            fmt ='% s')"
   ]
  },
  {
   "cell_type": "markdown",
   "id": "8b9b20df",
   "metadata": {},
   "source": [
    "# Part 2: Algorithms  "
   ]
  },
  {
   "cell_type": "markdown",
   "id": "285203de",
   "metadata": {},
   "source": [
    "### 2.1 -- MCL Algorithm "
   ]
  },
  {
   "cell_type": "code",
   "execution_count": 14,
   "id": "20a50a4d",
   "metadata": {},
   "outputs": [
    {
     "name": "stderr",
     "output_type": "stream",
     "text": [
      "100%|██████████| 13/13 [7:31:19<00:00, 2083.00s/it] \n"
     ]
    }
   ],
   "source": [
    "# Applying MLC Algoritm by given inflation range (1.5, 2.7, step = 0.1)\n",
    "results = Parallel(n_jobs=3)(delayed(hga.MCL)(pgenes_adj,i) for i in tqdm(np.arange(1.5,2.7,0.1)))\n"
   ]
  },
  {
   "cell_type": "code",
   "execution_count": 15,
   "id": "337430da",
   "metadata": {},
   "outputs": [],
   "source": [
    "hga.list_to_pikle(results,'MLC_modularity')"
   ]
  },
  {
   "cell_type": "code",
   "execution_count": 16,
   "id": "49a2ad4c",
   "metadata": {},
   "outputs": [
    {
     "name": "stdout",
     "output_type": "stream",
     "text": [
      "inflation: 1.5 modularity: 0.7318793908083768\n",
      "inflation: 1.6 modularity: 0.7664038191128469\n",
      "inflation: 1.7 modularity: 0.7948113431834943\n",
      "inflation: 1.8 modularity: 0.8254253707325344\n",
      "inflation: 1.9 modularity: 0.8034790682066575\n",
      "inflation: 2.0 modularity: 0.7514658577401434\n",
      "inflation: 2.1 modularity: 0.6951036602617071\n",
      "inflation: 2.2 modularity: 0.641935117124079\n",
      "inflation: 2.3 modularity: 0.5919604667312881\n",
      "inflation: 2.4 modularity: 0.5541978925627196\n",
      "inflation: 2.5 modularity: 0.5206722692342249\n",
      "inflation: 2.6 modularity: 0.49161128642816465\n",
      "inflation: 2.7 modularity: 0.46866783664642075\n"
     ]
    }
   ],
   "source": [
    "results_list_from_pkl = hga.read_pickle_list('MLC_modularity')\n",
    "for i in enumerate(np.arange(1.5,2.7,0.1)):\n",
    "    print(\"inflation:\", round(i[1],2), \"modularity:\", results_list_from_pkl[i[0]])\n",
    "    "
   ]
  },
  {
   "cell_type": "markdown",
   "id": "5b793485",
   "metadata": {},
   "source": [
    "### 2.1.1 -- Creating Clusters"
   ]
  },
  {
   "cell_type": "code",
   "execution_count": 7,
   "id": "8c35e12c",
   "metadata": {},
   "outputs": [
    {
     "name": "stdout",
     "output_type": "stream",
     "text": [
      "2106 of clusters obtained with inflation of 1.8\n"
     ]
    }
   ],
   "source": [
    "best_inflation = 1.8\n",
    "result = mc.run_mcl(pgenes_adj, inflation=best_inflation)\n",
    "clusters = mc.get_clusters(result)\n",
    "print(str(len(clusters))+\" of clusters obtained with inflation of \"+str(best_inflation))"
   ]
  },
  {
   "cell_type": "code",
   "execution_count": 10,
   "id": "4f0d594b",
   "metadata": {},
   "outputs": [
    {
     "name": "stdout",
     "output_type": "stream",
     "text": [
      "================================================\n",
      "Fold number:  0\n",
      "16 disease genes in cluster 0 --> 0.075075\n",
      "117 disease genes in cluster 2 --> 2e-05\n",
      "7 disease genes in cluster 6 --> 0.13986\n",
      "4 disease genes in cluster 7 --> 0.0954\n",
      "21 disease genes in cluster 11 --> 0.080552\n",
      "5 disease genes in cluster 15 --> 0.178167\n",
      "3 disease genes in cluster 27 --> 0.214784\n",
      "3 disease genes in cluster 46 --> 0.015384\n",
      "16 disease genes in cluster 53 --> 0.100427\n",
      "13 disease genes in cluster 67 --> 0.041879\n",
      "6 disease genes in cluster 68 --> 0.144008\n",
      "6 disease genes in cluster 82 --> 0.142727\n",
      "4 disease genes in cluster 111 --> 0.19804\n",
      "3 disease genes in cluster 198 --> 0.003711\n",
      "3 disease genes in cluster 224 --> 0.201165\n",
      "3 disease genes in cluster 290 --> 0.014835\n",
      "================================================\n",
      "Fold number:  1\n",
      "21 disease genes in cluster 0 --> 0.082933\n",
      "120 disease genes in cluster 2 --> 5e-06\n",
      "5 disease genes in cluster 6 --> 0.087203\n",
      "23 disease genes in cluster 11 --> 0.056081\n",
      "4 disease genes in cluster 15 --> 0.18091\n",
      "3 disease genes in cluster 27 --> 0.214784\n",
      "6 disease genes in cluster 46 --> 0.095338\n",
      "19 disease genes in cluster 53 --> 0.081348\n",
      "9 disease genes in cluster 67 --> 0.133714\n",
      "4 disease genes in cluster 68 --> 0.182145\n",
      "8 disease genes in cluster 82 --> 0.057935\n",
      "6 disease genes in cluster 224 --> 0.100179\n",
      "================================================\n",
      "Fold number:  2\n",
      "23 disease genes in cluster 0 --> 0.060219\n",
      "113 disease genes in cluster 2 --> 0.000127\n",
      "4 disease genes in cluster 6 --> 0.052089\n",
      "3 disease genes in cluster 7 --> 0.188188\n",
      "18 disease genes in cluster 11 --> 0.094056\n",
      "3 disease genes in cluster 15 --> 0.145183\n",
      "4 disease genes in cluster 27 --> 0.131741\n",
      "7 disease genes in cluster 46 --> 0.121511\n",
      "17 disease genes in cluster 53 --> 0.09948\n",
      "13 disease genes in cluster 67 --> 0.042415\n",
      "5 disease genes in cluster 68 --> 0.178076\n",
      "7 disease genes in cluster 82 --> 0.098155\n",
      "4 disease genes in cluster 111 --> 0.198094\n",
      "5 disease genes in cluster 224 --> 0.1554\n",
      "================================================\n",
      "Fold number:  3\n",
      "21 disease genes in cluster 0 --> 0.083363\n",
      "114 disease genes in cluster 2 --> 8.4e-05\n",
      "5 disease genes in cluster 6 --> 0.086417\n",
      "4 disease genes in cluster 7 --> 0.095932\n",
      "21 disease genes in cluster 11 --> 0.081035\n",
      "5 disease genes in cluster 15 --> 0.178214\n",
      "3 disease genes in cluster 27 --> 0.215115\n",
      "8 disease genes in cluster 46 --> 0.135964\n",
      "19 disease genes in cluster 53 --> 0.08188\n",
      "10 disease genes in cluster 67 --> 0.115815\n",
      "6 disease genes in cluster 68 --> 0.144478\n",
      "7 disease genes in cluster 82 --> 0.098155\n",
      "4 disease genes in cluster 111 --> 0.198094\n",
      "6 disease genes in cluster 224 --> 0.100781\n",
      "================================================\n",
      "Fold number:  4\n",
      "23 disease genes in cluster 0 --> 0.060219\n",
      "116 disease genes in cluster 2 --> 3.5e-05\n",
      "7 disease genes in cluster 6 --> 0.139405\n",
      "3 disease genes in cluster 7 --> 0.188188\n",
      "17 disease genes in cluster 11 --> 0.08833\n",
      "3 disease genes in cluster 15 --> 0.145183\n",
      "3 disease genes in cluster 27 --> 0.215115\n",
      "8 disease genes in cluster 46 --> 0.135964\n",
      "17 disease genes in cluster 53 --> 0.09948\n",
      "15 disease genes in cluster 67 --> 0.014445\n",
      "3 disease genes in cluster 68 --> 0.147312\n",
      "4 disease genes in cluster 82 --> 0.182905\n",
      "3 disease genes in cluster 198 --> 0.003739\n",
      "4 disease genes in cluster 224 --> 0.198167\n",
      "3 disease genes in cluster 290 --> 0.014939\n",
      "================================================\n",
      "The index of the enriched cluster found using MLC is:  [2, 198, 290]\n"
     ]
    }
   ],
   "source": [
    "_, enriched_genes,enriched_cluster_ID = hga.MLC_eval(pgenes_sub_graph,ds_genes_train,clusters)"
   ]
  },
  {
   "cell_type": "code",
   "execution_count": 11,
   "id": "ee052928",
   "metadata": {},
   "outputs": [
    {
     "name": "stdout",
     "output_type": "stream",
     "text": [
      "TP: 151 --- FP: 1955 --- FN: 19467\n",
      "Precision: 0.0717 --- Recall: 0.007697 --- F1 Score: 0.013902\n"
     ]
    }
   ],
   "source": [
    "hga.MCL_evaluation_metrics(pgenes_sub_graph,ds_genes_test,hs_disease_genes,clusters,enriched_cluster_ID)"
   ]
  },
  {
   "cell_type": "markdown",
   "id": "a7fbd66c",
   "metadata": {},
   "source": [
    "### 2.2 -- DIAMOnD Algorithm"
   ]
  },
  {
   "cell_type": "code",
   "execution_count": 7,
   "id": "fa148439",
   "metadata": {},
   "outputs": [
    {
     "name": "stdout",
     "output_type": "stream",
     "text": [
      "DIAMOnD(): ignoring 5 of 111 seed genes that are not in the network\n",
      "DIAMOnD(): ignoring 3 of 111 seed genes that are not in the network\n",
      "DIAMOnD(): ignoring 4 of 111 seed genes that are not in the network\n",
      "DIAMOnD(): ignoring 4 of 111 seed genes that are not in the network\n",
      "DIAMOnD(): ignoring 4 of 112 seed genes that are not in the network\n",
      "zero division\n",
      "zero division\n",
      "zero division\n",
      "zero division\n",
      "zero division\n",
      "zero division\n",
      "zero division\n",
      "zero division\n",
      "zero division\n",
      "zero division\n",
      "zero division\n",
      "zero division\n",
      "zero division\n",
      "zero division\n",
      "zero division\n",
      "Precision at 50: 0.001802 ± 0.004029\n",
      "Precision at n/10: 0.001802 ± 0.004029\n",
      "Precision at n/4: 0.001802 ± 0.004029\n",
      "Precision at n/2: 0.003604 ± 0.004934\n",
      "Precision at n: 0.010795 ± 0.004038\n",
      "Recall at 50: 0.007143 ± 0.015972\n",
      "Recall at n/10: 0.007143 ± 0.015972\n",
      "Recall at n/4: 0.007143 ± 0.015972\n",
      "Recall at n/2: 0.014286 ± 0.019562\n",
      "Recall at n: 0.043122 ± 0.015834\n",
      "F1 Score at 50: 0.014388\n",
      "F1 Score at n/10: 0.014388\n",
      "F1 Score at n/4: 0.014388\n",
      "F1 Score at n/2: 0.014388 ± 0.0\n",
      "F1 Score at n: 0.017266 ± 0.006435\n",
      "nDCG at 50: 0.004668 ± 0.010438\n",
      "nDCG at n/10: 0.011242 ± 0.025138\n",
      "nDCG at n/4: 0.00605 ± 0.013528\n",
      "nDCG at n/2: 0.005858 ± 0.008516\n",
      "nDCG at n: 0.008096 ± 0.004941\n"
     ]
    }
   ],
   "source": [
    "hga.return_metrics(\"DIAMOnD\", pgenes_sub_graph, hs_disease_genes, ds_genes_train, ds_genes_test, print_flag=True)"
   ]
  },
  {
   "cell_type": "markdown",
   "id": "f66c284d",
   "metadata": {},
   "source": [
    "### 2.3 -- DiaBLE Algorithm"
   ]
  },
  {
   "cell_type": "code",
   "execution_count": 8,
   "id": "72008792",
   "metadata": {},
   "outputs": [
    {
     "name": "stdout",
     "output_type": "stream",
     "text": [
      "DiaBLE(): ignoring 5 of 111 seed genes that are not in the network\n",
      "DiaBLE(): ignoring 3 of 111 seed genes that are not in the network\n",
      "DiaBLE(): ignoring 4 of 111 seed genes that are not in the network\n",
      "DiaBLE(): ignoring 4 of 111 seed genes that are not in the network\n",
      "DiaBLE(): ignoring 4 of 112 seed genes that are not in the network\n",
      "zero division\n",
      "zero division\n",
      "zero division\n",
      "zero division\n",
      "zero division\n",
      "zero division\n",
      "zero division\n",
      "zero division\n",
      "zero division\n",
      "zero division\n",
      "zero division\n",
      "zero division\n",
      "zero division\n",
      "zero division\n",
      "zero division\n",
      "Precision at 50: 0.001802 ± 0.004029\n",
      "Precision at n/10: 0.001802 ± 0.004029\n",
      "Precision at n/4: 0.001802 ± 0.004029\n",
      "Precision at n/2: 0.003604 ± 0.004934\n",
      "Precision at n: 0.010795 ± 0.004038\n",
      "Recall at 50: 0.007143 ± 0.015972\n",
      "Recall at n/10: 0.007143 ± 0.015972\n",
      "Recall at n/4: 0.007143 ± 0.015972\n",
      "Recall at n/2: 0.014286 ± 0.019562\n",
      "Recall at n: 0.043122 ± 0.015834\n",
      "F1 Score at 50: 0.014388\n",
      "F1 Score at n/10: 0.014388\n",
      "F1 Score at n/4: 0.014388\n",
      "F1 Score at n/2: 0.014388 ± 0.0\n",
      "F1 Score at n: 0.017266 ± 0.006435\n",
      "nDCG at 50: 0.004668 ± 0.010438\n",
      "nDCG at n/10: 0.011242 ± 0.025138\n",
      "nDCG at n/4: 0.00605 ± 0.013528\n",
      "nDCG at n/2: 0.005858 ± 0.008516\n",
      "nDCG at n: 0.008096 ± 0.004941\n"
     ]
    }
   ],
   "source": [
    "hga.return_metrics(\"DiaBLE\", pgenes_sub_graph, hs_disease_genes, ds_genes_train, ds_genes_test, print_flag=True)"
   ]
  },
  {
   "cell_type": "markdown",
   "id": "ccb4b75d",
   "metadata": {},
   "source": [
    "### 2.4 -- Cytoscape"
   ]
  },
  {
   "cell_type": "code",
   "execution_count": 9,
   "id": "7484cc7b",
   "metadata": {},
   "outputs": [
    {
     "name": "stdout",
     "output_type": "stream",
     "text": [
      "zero division\n",
      "zero division\n",
      "zero division\n",
      "zero division\n",
      "zero division\n",
      "zero division\n",
      "zero division\n",
      "zero division\n",
      "zero division\n",
      "zero division\n",
      "zero division\n",
      "zero division\n",
      "zero division\n",
      "zero division\n",
      "zero division\n",
      "zero division\n",
      "zero division\n",
      "zero division\n",
      "zero division\n",
      "zero division\n",
      "zero division\n",
      "zero division\n",
      "zero division\n",
      "zero division\n",
      "Precision at 50: 0.0 ± 0.0\n",
      "Precision at n/10: 0.0 ± 0.0\n",
      "Precision at n/4: 0.0 ± 0.0\n",
      "Precision at n/2: 0.0 ± 0.0\n",
      "Precision at n: 0.001786 ± 0.003993\n",
      "Recall at 50: 0.0 ± 0.0\n",
      "Recall at n/10: 0.0 ± 0.0\n",
      "Recall at n/4: 0.0 ± 0.0\n",
      "Recall at n/2: 0.0 ± 0.0\n",
      "Recall at n: 0.007407 ± 0.016563\n",
      "No values to record F1\n",
      "No values to record F1\n",
      "No values to record F1\n",
      "No values to record F1\n",
      "No values to record F1\n",
      "nDCG at 50: 0.0 ± 0.0\n",
      "nDCG at n/10: 0.0 ± 0.0\n",
      "nDCG at n/4: 0.0 ± 0.0\n",
      "nDCG at n/2: 0.0 ± 0.0\n",
      "nDCG at n: 0.001159 ± 0.002591\n"
     ]
    }
   ],
   "source": [
    "hga.return_metrics(\"cytoscape\", pgenes_sub_graph, hs_disease_genes, ds_genes_train, ds_genes_test, print_flag=True)"
   ]
  },
  {
   "cell_type": "markdown",
   "id": "e83e67eb",
   "metadata": {},
   "source": [
    "### 2.6 -- Random Walk with Restart "
   ]
  },
  {
   "cell_type": "code",
   "execution_count": 10,
   "id": "d11e6914",
   "metadata": {},
   "outputs": [
    {
     "name": "stdout",
     "output_type": "stream",
     "text": [
      "Precision at 50: 0.0 ± 0.0\n",
      "Precision at n/10: 0.0 ± 0.0\n",
      "Precision at n/4: 0.0 ± 0.0\n",
      "Precision at n/2: 0.0 ± 0.0\n",
      "Precision at n: 0.59 ± 0.81\n",
      "Recall at 50: 0.0 ± 0.0\n",
      "Recall at n/10: 0.0 ± 0.0\n",
      "Recall at n/4: 0.0 ± 0.0\n",
      "Recall at n/2: 0.0 ± 0.0\n",
      "Recall at n: 2.35 ± 3.22\n",
      "No values to record F1\n",
      "No values to record F1\n",
      "No values to record F1\n",
      "No values to record F1\n",
      "F1 Score at n: 2.35 ± 0.0\n",
      "nDCG at 50: 0.0 ± 0.0\n",
      "nDCG at n/10: 0.0 ± 0.0\n",
      "nDCG at n/4: 0.0 ± 0.0\n",
      "nDCG at n/2: 0.0 ± 0.0\n",
      "nDCG at n: 0.35 ± 0.47\n"
     ]
    }
   ],
   "source": [
    "hga.return_metrics(\"rwr\", pgenes_sub_graph, hs_disease_genes, ds_genes_train, ds_genes_test, print_flag=True)"
   ]
  },
  {
   "cell_type": "markdown",
   "id": "46e76193",
   "metadata": {},
   "source": [
    "# Part 3: Extented Validation  "
   ]
  },
  {
   "cell_type": "code",
   "execution_count": 7,
   "id": "75c0c797",
   "metadata": {},
   "outputs": [
    {
     "name": "stdout",
     "output_type": "stream",
     "text": [
      "DIAMOnD(): ignoring 5 of 111 seed genes that are not in the network\n",
      "DIAMOnD(): ignoring 3 of 111 seed genes that are not in the network\n",
      "DIAMOnD(): ignoring 4 of 111 seed genes that are not in the network\n",
      "DIAMOnD(): ignoring 4 of 111 seed genes that are not in the network\n",
      "DIAMOnD(): ignoring 4 of 112 seed genes that are not in the network\n",
      "zero division\n",
      "zero division\n",
      "zero division\n",
      "zero division\n",
      "zero division\n",
      "zero division\n",
      "zero division\n",
      "zero division\n",
      "zero division\n",
      "zero division\n",
      "zero division\n",
      "zero division\n",
      "zero division\n",
      "zero division\n",
      "zero division\n",
      "zero division\n",
      "zero division\n",
      "zero division\n",
      "zero division\n",
      "zero division\n",
      "Precision at 50: 0.001563 ± 0.003494\n",
      "Precision at n/10: 0.001563 ± 0.003494\n",
      "Precision at n/4: 0.001563 ± 0.003494\n",
      "Precision at n/2: 0.001563 ± 0.003494\n",
      "Precision at n: 0.001563 ± 0.003494\n",
      "Recall at 50: 0.00625 ± 0.013975\n",
      "Recall at n/10: 0.00625 ± 0.013975\n",
      "Recall at n/4: 0.00625 ± 0.013975\n",
      "Recall at n/2: 0.00625 ± 0.013975\n",
      "Recall at n: 0.00625 ± 0.013975\n",
      "F1 Score at 50: 0.0125\n",
      "F1 Score at n/10: 0.0125\n",
      "F1 Score at n/4: 0.0125\n",
      "F1 Score at n/2: 0.0125\n",
      "No values to record F1\n",
      "nDCG at 50: 0.009784 ± 0.021877\n",
      "nDCG at n/10: 0.020666 ± 0.04621\n",
      "nDCG at n/4: 0.011377 ± 0.02544\n",
      "nDCG at n/2: 0.007062 ± 0.015792\n",
      "nDCG at n: 0.0043 ± 0.009614\n"
     ]
    }
   ],
   "source": [
    "hga.return_metrics(\"DIAMOnD\", pgenes_sub_graph, hs_disease_genes, ds_genes_train, ds_genes_test, print_flag=True, extended_val = True)"
   ]
  },
  {
   "cell_type": "code",
   "execution_count": null,
   "id": "ee5e8fb5",
   "metadata": {},
   "outputs": [
    {
     "name": "stdout",
     "output_type": "stream",
     "text": [
      "DiaBLE(): ignoring 5 of 111 seed genes that are not in the network\n",
      "DiaBLE(): ignoring 3 of 111 seed genes that are not in the network\n",
      "DiaBLE(): ignoring 4 of 111 seed genes that are not in the network\n",
      "DiaBLE(): ignoring 4 of 111 seed genes that are not in the network\n",
      "DiaBLE(): ignoring 4 of 112 seed genes that are not in the network\n",
      "zero division\n",
      "zero division\n",
      "zero division\n",
      "zero division\n",
      "zero division\n",
      "zero division\n",
      "zero division\n",
      "zero division\n",
      "zero division\n",
      "zero division\n",
      "zero division\n",
      "zero division\n",
      "zero division\n",
      "zero division\n",
      "zero division\n",
      "zero division\n",
      "zero division\n",
      "zero division\n",
      "zero division\n",
      "zero division\n",
      "Precision at 50: 0.001563 ± 0.003494\n",
      "Precision at n/10: 0.001563 ± 0.003494\n",
      "Precision at n/4: 0.001563 ± 0.003494\n",
      "Precision at n/2: 0.001563 ± 0.003494\n",
      "Precision at n: 0.001563 ± 0.003494\n",
      "Recall at 50: 0.00625 ± 0.013975\n",
      "Recall at n/10: 0.00625 ± 0.013975\n",
      "Recall at n/4: 0.00625 ± 0.013975\n",
      "Recall at n/2: 0.00625 ± 0.013975\n",
      "Recall at n: 0.00625 ± 0.013975\n",
      "F1 Score at 50: 0.0125\n",
      "F1 Score at n/10: 0.0125\n",
      "F1 Score at n/4: 0.0125\n",
      "F1 Score at n/2: 0.0125\n",
      "No values to record F1\n",
      "nDCG at 50: 0.009784 ± 0.021877\n",
      "nDCG at n/10: 0.020666 ± 0.04621\n",
      "nDCG at n/4: 0.011377 ± 0.02544\n",
      "nDCG at n/2: 0.007062 ± 0.015792\n",
      "nDCG at n: 0.0043 ± 0.009614\n"
     ]
    }
   ],
   "source": [
    "hga.return_metrics(\"DiaBLE\", pgenes_sub_graph, hs_disease_genes, ds_genes_train, ds_genes_test, print_flag=True, extended_val = True)"
   ]
  },
  {
   "cell_type": "code",
   "execution_count": 8,
   "id": "22eaeaa5",
   "metadata": {},
   "outputs": [
    {
     "name": "stdout",
     "output_type": "stream",
     "text": [
      "zero division\n",
      "zero division\n",
      "zero division\n",
      "zero division\n",
      "zero division\n",
      "zero division\n",
      "zero division\n",
      "zero division\n",
      "zero division\n",
      "zero division\n",
      "zero division\n",
      "zero division\n",
      "zero division\n",
      "zero division\n",
      "zero division\n",
      "zero division\n",
      "zero division\n",
      "zero division\n",
      "zero division\n",
      "zero division\n",
      "zero division\n",
      "zero division\n",
      "zero division\n",
      "zero division\n",
      "zero division\n",
      "Precision at 50: 0.0 ± 0.0\n",
      "Precision at n/10: 0.0 ± 0.0\n",
      "Precision at n/4: 0.0 ± 0.0\n",
      "Precision at n/2: 0.0 ± 0.0\n",
      "Precision at n: 0.0 ± 0.0\n",
      "Recall at 50: 0.0 ± 0.0\n",
      "Recall at n/10: 0.0 ± 0.0\n",
      "Recall at n/4: 0.0 ± 0.0\n",
      "Recall at n/2: 0.0 ± 0.0\n",
      "Recall at n: 0.0 ± 0.0\n",
      "No values to record F1\n",
      "No values to record F1\n",
      "No values to record F1\n",
      "No values to record F1\n",
      "No values to record F1\n",
      "nDCG at 50: 0.0 ± 0.0\n",
      "nDCG at n/10: 0.0 ± 0.0\n",
      "nDCG at n/4: 0.0 ± 0.0\n",
      "nDCG at n/2: 0.0 ± 0.0\n",
      "nDCG at n: 0.0 ± 0.0\n"
     ]
    }
   ],
   "source": [
    "hga.return_metrics(\"cytoscape\", pgenes_sub_graph, hs_disease_genes, ds_genes_train, ds_genes_test, print_flag=True, extended_val = True)"
   ]
  },
  {
   "cell_type": "code",
   "execution_count": 9,
   "id": "accc25ff",
   "metadata": {},
   "outputs": [
    {
     "name": "stdout",
     "output_type": "stream",
     "text": [
      "Precision at 50: 0.075 ± 0.021108\n",
      "Precision at n/10: 0.028125 ± 0.011848\n",
      "Precision at n/4: 0.053125 ± 0.021679\n",
      "Precision at n/2: 0.120313 ± 0.017116\n",
      "Precision at n: 0.159375 ± 0.017986\n",
      "Recall at 50: 0.3 ± 0.084433\n",
      "Recall at n/10: 0.1125 ± 0.047393\n",
      "Recall at n/4: 0.2125 ± 0.086715\n",
      "Recall at n/2: 0.48125 ± 0.068465\n",
      "Recall at n: 0.6375 ± 0.071943\n",
      "F1 Score at 50: 0.12 ± 0.033773\n",
      "F1 Score at n/10: 0.045 ± 0.018957\n",
      "F1 Score at n/4: 0.085 ± 0.034686\n",
      "F1 Score at n/2: 0.1925 ± 0.027386\n",
      "F1 Score at n: 0.255 ± 0.028777\n",
      "nDCG at 50: 0.186422 ± 0.051823\n",
      "nDCG at n/10: 0.204807 ± 0.066245\n",
      "nDCG at n/4: 0.171288 ± 0.053476\n",
      "nDCG at n/2: 0.188087 ± 0.035149\n",
      "nDCG at n: 0.13987 ± 0.022769\n"
     ]
    }
   ],
   "source": [
    "hga.return_metrics(\"rwr\", pgenes_sub_graph, hs_disease_genes, ds_genes_train, ds_genes_test, print_flag=True, extended_val = True)"
   ]
  },
  {
   "cell_type": "markdown",
   "id": "a1ea583e",
   "metadata": {},
   "source": [
    "# Part 4: Enrichment Analysis "
   ]
  },
  {
   "cell_type": "code",
   "execution_count": 57,
   "id": "3420bb16",
   "metadata": {},
   "outputs": [
    {
     "name": "stdout",
     "output_type": "stream",
     "text": [
      "DIAMOnD(): ignoring 3 of 85 seed genes that are not in the network\n"
     ]
    }
   ],
   "source": [
    "added_nodes, predicted_nodes = DIAMOnD(G_original=pgenes_sub_graph,\n",
    "                seed_genes=hs_disease_genes,\n",
    "                max_number_of_added_nodes=115,alpha=1)"
   ]
  },
  {
   "cell_type": "code",
   "execution_count": 64,
   "id": "76781dc7",
   "metadata": {},
   "outputs": [
    {
     "data": {
      "text/plain": [
       "{'ABLIM1',\n",
       " 'ADRA1D',\n",
       " 'ADRB1',\n",
       " 'ANKRD26',\n",
       " 'APBA1',\n",
       " 'ARHGEF26',\n",
       " 'BAI1',\n",
       " 'C11orf52',\n",
       " 'C15orf59',\n",
       " 'CASK',\n",
       " 'CAV1',\n",
       " 'CDC42BPA',\n",
       " 'CRHR1',\n",
       " 'CTNNA1',\n",
       " 'CTNNAL1',\n",
       " 'CXADR',\n",
       " 'DIRAS3',\n",
       " 'DLG1',\n",
       " 'DLG2',\n",
       " 'DLG3',\n",
       " 'DLG5',\n",
       " 'DLGAP1',\n",
       " 'DLGAP2',\n",
       " 'DLGAP3',\n",
       " 'DLGAP4',\n",
       " 'DMD',\n",
       " 'DNAJC5',\n",
       " 'DTNA',\n",
       " 'DTNB',\n",
       " 'DUSP10',\n",
       " 'EFR3A',\n",
       " 'EFR3B',\n",
       " 'EPB41',\n",
       " 'EPB41L4A',\n",
       " 'ERBB2IP',\n",
       " 'ERBB4',\n",
       " 'F8A1',\n",
       " 'FAM171A1',\n",
       " 'FAM171A2',\n",
       " 'FAM171B',\n",
       " 'FLOT1',\n",
       " 'FRS2',\n",
       " 'GAB1',\n",
       " 'GJA1',\n",
       " 'GPRIN3',\n",
       " 'GRIN1',\n",
       " 'GRIN2A',\n",
       " 'GRIN2C',\n",
       " 'GRIN3A',\n",
       " 'GUCY1A2',\n",
       " 'INADL',\n",
       " 'KCNA4',\n",
       " 'KCNJ12',\n",
       " 'KCNJ4',\n",
       " 'KHDRBS1',\n",
       " 'KIAA0754',\n",
       " 'KIF26B',\n",
       " 'KRAS',\n",
       " 'LCK',\n",
       " 'LIN7A',\n",
       " 'LIN7B',\n",
       " 'LIN7C',\n",
       " 'LLGL1',\n",
       " 'LPHN2',\n",
       " 'LYN',\n",
       " 'MAGI2',\n",
       " 'MARCKS',\n",
       " 'MARK2',\n",
       " 'MARK3',\n",
       " 'MLLT4',\n",
       " 'MPDZ',\n",
       " 'MPP2',\n",
       " 'MPP3',\n",
       " 'MPP5',\n",
       " 'MPP6',\n",
       " 'MPP7',\n",
       " 'MTMR2',\n",
       " 'NETO1',\n",
       " 'NLGN1',\n",
       " 'NLGN2',\n",
       " 'NOS1',\n",
       " 'OCLN',\n",
       " 'PALM',\n",
       " 'PARD3',\n",
       " 'PHACTR4',\n",
       " 'PKP4',\n",
       " 'PLCH1',\n",
       " 'PLEKHA1',\n",
       " 'PLEKHA2',\n",
       " 'PSD3',\n",
       " 'PTPN13',\n",
       " 'PXDC1',\n",
       " 'RAB35',\n",
       " 'RHOB',\n",
       " 'RHPN1',\n",
       " 'RPS6KA1',\n",
       " 'SCRIB',\n",
       " 'SHANK2',\n",
       " 'SNTA1',\n",
       " 'SNTB1',\n",
       " 'SNTB2',\n",
       " 'SNTG1',\n",
       " 'SPZ1',\n",
       " 'STX7',\n",
       " 'TAGAP',\n",
       " 'TENC1',\n",
       " 'TNS1',\n",
       " 'TNS3',\n",
       " 'USP6NL',\n",
       " 'UTRN',\n",
       " 'WWC1',\n",
       " 'ZBTB7A',\n",
       " 'ZDHHC5',\n",
       " 'ZFPL1',\n",
       " 'ZGPAT'}"
      ]
     },
     "execution_count": 64,
     "metadata": {},
     "output_type": "execute_result"
    }
   ],
   "source": [
    "set(predicted_nodes+hs_disease_genes)"
   ]
  },
  {
   "cell_type": "code",
   "execution_count": 63,
   "id": "c36ab686",
   "metadata": {},
   "outputs": [
    {
     "name": "stdout",
     "output_type": "stream",
     "text": [
      "GPRIN3\n",
      "ADRB1\n",
      "DTNB\n",
      "LLGL1\n",
      "MPP3\n",
      "WWC1\n",
      "DMD\n",
      "ZGPAT\n",
      "OCLN\n",
      "CTNNA1\n",
      "DLG3\n",
      "DLG2\n",
      "PTPN13\n",
      "DLG5\n",
      "DLGAP2\n",
      "ZBTB7A\n",
      "BAI1\n",
      "LIN7B\n",
      "STX7\n",
      "PALM\n",
      "GAB1\n",
      "FAM171A1\n",
      "SNTA1\n",
      "ADRA1D\n",
      "KCNJ4\n",
      "GRIN2C\n",
      "KCNJ12\n",
      "CXADR\n",
      "MARCKS\n",
      "PLEKHA1\n",
      "DUSP10\n",
      "ZDHHC5\n",
      "RAB35\n",
      "CAV1\n",
      "ABLIM1\n",
      "PSD3\n",
      "FAM171B\n",
      "RHPN1\n",
      "EFR3B\n",
      "SPZ1\n",
      "TNS1\n",
      "MLLT4\n",
      "PARD3\n",
      "C11orf52\n",
      "MARK2\n",
      "MPDZ\n",
      "LYN\n",
      "KIF26B\n",
      "CASK\n",
      "NOS1\n",
      "TAGAP\n",
      "TNS3\n",
      "MPP6\n",
      "F8A1\n",
      "NLGN2\n",
      "LCK\n",
      "SCRIB\n",
      "KRAS\n",
      "SNTB2\n",
      "FAM171A2\n",
      "DLGAP4\n",
      "DIRAS3\n",
      "PLEKHA2\n",
      "INADL\n",
      "ANKRD26\n",
      "ARHGEF26\n",
      "GRIN2A\n",
      "EFR3A\n",
      "PLCH1\n",
      "CDC42BPA\n",
      "DNAJC5\n",
      "APBA1\n",
      "KHDRBS1\n",
      "LIN7C\n",
      "RHOB\n",
      "DTNA\n",
      "ERBB4\n",
      "ERBB2IP\n",
      "SNTB1\n",
      "CTNNAL1\n",
      "MARK3\n",
      "GUCY1A2\n",
      "KIAA0754\n",
      "RPS6KA1\n",
      "TENC1\n",
      "USP6NL\n",
      "GJA1\n",
      "SHANK2\n",
      "DLGAP3\n",
      "MAGI2\n",
      "PHACTR4\n",
      "UTRN\n",
      "NETO1\n",
      "PXDC1\n",
      "GRIN1\n",
      "EPB41L4A\n",
      "C15orf59\n",
      "PKP4\n",
      "DLGAP1\n",
      "MPP2\n",
      "GRIN3A\n",
      "MTMR2\n",
      "EPB41\n",
      "FLOT1\n",
      "DLG1\n",
      "KCNA4\n",
      "NLGN1\n",
      "LIN7A\n",
      "FRS2\n",
      "SNTG1\n",
      "CRHR1\n",
      "ZFPL1\n",
      "LPHN2\n",
      "MPP5\n",
      "MPP7\n"
     ]
    }
   ],
   "source": [
    "for i in set(predicted_nodes+predicted_nodes):\n",
    "    print(i)"
   ]
  }
 ],
 "metadata": {
  "kernelspec": {
   "display_name": "Python 3",
   "language": "python",
   "name": "python3"
  },
  "language_info": {
   "codemirror_mode": {
    "name": "ipython",
    "version": 3
   },
   "file_extension": ".py",
   "mimetype": "text/x-python",
   "name": "python",
   "nbconvert_exporter": "python",
   "pygments_lexer": "ipython3",
   "version": "3.8.5"
  }
 },
 "nbformat": 4,
 "nbformat_minor": 5
}
