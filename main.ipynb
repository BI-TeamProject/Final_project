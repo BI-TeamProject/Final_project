{
 "cells": [
  {
   "cell_type": "code",
   "execution_count": 1,
   "id": "99d392e5",
   "metadata": {},
   "outputs": [],
   "source": [
    "from code_py.DIAMOnD import *\n",
    "from code_py.backbone import *"
   ]
  },
  {
   "cell_type": "markdown",
   "id": "d384b9ae",
   "metadata": {},
   "source": [
    "#  Part 1: Preprocessing"
   ]
  },
  {
   "cell_type": "code",
   "execution_count": 2,
   "id": "c20b0dc2",
   "metadata": {},
   "outputs": [],
   "source": [
    "disease_genes_graph = Disease_Genes_Graph()"
   ]
  },
  {
   "cell_type": "markdown",
   "id": "b195418b",
   "metadata": {},
   "source": [
    "#### 1.1 -- Filtering and revoving self-loops"
   ]
  },
  {
   "cell_type": "code",
   "execution_count": 3,
   "id": "982b91f7",
   "metadata": {},
   "outputs": [
    {
     "name": "stdout",
     "output_type": "stream",
     "text": [
      "Number of putative genes: 718129\n"
     ]
    }
   ],
   "source": [
    "# Preprocessing the Biogrid dataset by filtering Homo Sapiens, removing duplicated and self loops\n",
    "hs_putative_genes = disease_genes_graph.preprocessing_dataset(homo_sap=True,drop_duplicates=True,remove_self_loops=True)\n"
   ]
  },
  {
   "cell_type": "markdown",
   "id": "95153c3f",
   "metadata": {},
   "source": [
    "#### 1.2 -- Filtering Disease Genes"
   ]
  },
  {
   "cell_type": "code",
   "execution_count": 4,
   "id": "d23d6ea0",
   "metadata": {},
   "outputs": [
    {
     "name": "stdout",
     "output_type": "stream",
     "text": [
      "Found 85 disease genes in Autism Spectrum Disorders\n"
     ]
    }
   ],
   "source": [
    "hs_disease_genes_df,hs_disease_genes = disease_genes_graph.query_disease_genes(diseaseId=\"C1510586\")"
   ]
  },
  {
   "cell_type": "markdown",
   "id": "c055e88e",
   "metadata": {},
   "source": [
    "#### 1.3 -- Creating LCC sub-graph,adjacency matrix,"
   ]
  },
  {
   "cell_type": "code",
   "execution_count": 5,
   "id": "e10150b5",
   "metadata": {},
   "outputs": [
    {
     "name": "stdout",
     "output_type": "stream",
     "text": [
      "# of connected components: 1\n",
      "19759\n",
      "Graph with 19759 nodes and 675415 edges\n"
     ]
    }
   ],
   "source": [
    "# We are creating the graph with nx from the from the filtered PPI dataset and returning the sub graph, adj matrix, nodes and edges of LCC \n",
    "pgenes_sub_graph,pgenes_adj,pnodes,pedges = disease_genes_graph.LCC_to_adj(hs_putative_genes)"
   ]
  },
  {
   "cell_type": "markdown",
   "id": "8b9b20df",
   "metadata": {},
   "source": [
    "# Part 2: Algorithms  "
   ]
  },
  {
   "cell_type": "markdown",
   "id": "285203de",
   "metadata": {},
   "source": [
    "### 2.1 -- MLC Algorithm "
   ]
  },
  {
   "cell_type": "code",
   "execution_count": 10,
   "id": "7641b75e",
   "metadata": {},
   "outputs": [
    {
     "name": "stderr",
     "output_type": "stream",
     "text": [
      "100%|██████████| 9/9 [40:34<00:00, 270.51s/it]\n"
     ]
    }
   ],
   "source": [
    "# Applying MLC Algoritm by given inflation range (1.8, 2.7, step = 0.1)\n",
    "from joblib import Parallel, delayed\n",
    "\n",
    "results = Parallel(n_jobs=3)(delayed(disease_genes_graph.MCL)(pgenes_adj,i) for i in tqdm(np.arange(1.8,2.7,0.1)))"
   ]
  },
  {
   "cell_type": "code",
   "execution_count": 25,
   "id": "49a2ad4c",
   "metadata": {},
   "outputs": [
    {
     "name": "stdout",
     "output_type": "stream",
     "text": [
      "inflation: 1.8 modularity: 0.8364189644177686\n",
      "inflation: 1.9 modularity: 0.8095275561789396\n",
      "inflation: 2.0 modularity: 0.7560269862922929\n",
      "inflation: 2.1 modularity: 0.7001738612779913\n",
      "inflation: 2.2 modularity: 0.645825770553926\n",
      "inflation: 2.3 modularity: 0.5957726942467184\n",
      "inflation: 2.4 modularity: 0.5549960786780302\n",
      "inflation: 2.5 modularity: 0.5213876838864968\n",
      "inflation: 2.6 modularity: 0.4930706526371195\n"
     ]
    }
   ],
   "source": [
    "for i in enumerate(np.arange(1.8,2.7,0.1)):\n",
    "    print(\"inflation:\", round(i[1],2), \"modularity:\", results[i[0]])"
   ]
  },
  {
   "cell_type": "code",
   "execution_count": 40,
   "id": "8c35e12c",
   "metadata": {},
   "outputs": [
    {
     "name": "stdout",
     "output_type": "stream",
     "text": [
      "2040\n"
     ]
    }
   ],
   "source": [
    "result = mc.run_mcl(pgenes_adj, inflation=1.8)\n",
    "clusters = mc.get_clusters(result)\n",
    "print(len(clusters))"
   ]
  },
  {
   "cell_type": "markdown",
   "id": "a7fbd66c",
   "metadata": {},
   "source": [
    "### 2.2 -- DIAMOnD Algorithm"
   ]
  },
  {
   "cell_type": "code",
   "execution_count": 6,
   "id": "8810e361",
   "metadata": {},
   "outputs": [],
   "source": [
    "# Creating train and validation folds for Cross Validation\n",
    "St_train,Sp_val=disease_genes_graph.KFold_CV(hs_disease_genes)"
   ]
  },
  {
   "cell_type": "code",
   "execution_count": 7,
   "id": "9b803572",
   "metadata": {},
   "outputs": [
    {
     "name": "stdout",
     "output_type": "stream",
     "text": [
      "DIAMOnD(): ignoring 3 of 76 seed genes that are not in the network\n"
     ]
    }
   ],
   "source": [
    "added_nodes, predicted_nodes = DIAMOnD(G_original=pgenes_sub_graph,\n",
    "                        seed_genes=St_train[0],\n",
    "                        max_number_of_added_nodes=50,alpha=1)"
   ]
  },
  {
   "cell_type": "markdown",
   "id": "e83e67eb",
   "metadata": {},
   "source": [
    "### 2.6 -- Random Walk with Restart "
   ]
  },
  {
   "cell_type": "code",
   "execution_count": 6,
   "id": "3f612a67",
   "metadata": {},
   "outputs": [
    {
     "name": "stdout",
     "output_type": "stream",
     "text": [
      "TRIM25 0.0036780463638231295\n",
      "KIAA1429 0.002553971392189628\n",
      "DDX58 0.0022945645479153136\n",
      "DDX39A 0.0022317654596454156\n",
      "APP 0.0020135037320078986\n",
      "HNRNPL 0.0018565978542992826\n",
      "HNRNPH1 0.0016549605248707682\n",
      "TP53 0.001301421510198727\n",
      "KRAS 0.0012649494484642152\n",
      "ELAVL1 0.0012018688118047975\n"
     ]
    }
   ],
   "source": [
    "disease_genes_graph.RWR(pgenes_sub_graph)\n"
   ]
  }
 ],
 "metadata": {
  "kernelspec": {
   "display_name": "Python 3",
   "language": "python",
   "name": "python3"
  },
  "language_info": {
   "codemirror_mode": {
    "name": "ipython",
    "version": 3
   },
   "file_extension": ".py",
   "mimetype": "text/x-python",
   "name": "python",
   "nbconvert_exporter": "python",
   "pygments_lexer": "ipython3",
   "version": "3.8.5"
  }
 },
 "nbformat": 4,
 "nbformat_minor": 5
}
