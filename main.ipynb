{
 "cells": [
  {
   "cell_type": "code",
   "execution_count": 1,
   "id": "99d392e5",
   "metadata": {},
   "outputs": [],
   "source": [
    "%load_ext autoreload\n",
    "%autoreload 2\n",
    "\n",
    "from code_py.DIAMOnD import *\n",
    "from code_py.backbone import Human_Genes_Graph_Analysis\n",
    "import markov_clustering as mc\n",
    "from joblib import Parallel, delayed\n",
    "import statistics \n",
    "from tqdm import tqdm\n",
    "\n",
    "sys_path = '/Users/tanselsimsek/Desktop/DS/2.1/BI/Final_project-1/'\n"
   ]
  },
  {
   "cell_type": "markdown",
   "id": "d384b9ae",
   "metadata": {},
   "source": [
    "#  Part 1: Preprocessing"
   ]
  },
  {
   "cell_type": "code",
   "execution_count": 2,
   "id": "c20b0dc2",
   "metadata": {},
   "outputs": [],
   "source": [
    "disease_code = \"C0020796\"\n",
    "hga = Human_Genes_Graph_Analysis(sys_path,disease_ID = disease_code)"
   ]
  },
  {
   "cell_type": "markdown",
   "id": "b195418b",
   "metadata": {},
   "source": [
    "#### 1.1 -- Filtering and revoving self-loops"
   ]
  },
  {
   "cell_type": "code",
   "execution_count": 3,
   "id": "982b91f7",
   "metadata": {},
   "outputs": [
    {
     "name": "stdout",
     "output_type": "stream",
     "text": [
      "Number of putative genes: 889884\n"
     ]
    }
   ],
   "source": [
    "# Preprocessing the Biogrid dataset by filtering Homo Sapiens, removing duplicated and self loops\n",
    "hs_putative_genes = hga.preprocessing_dataset(homo_sap=True,drop_duplicates=True,remove_self_loops=True)"
   ]
  },
  {
   "cell_type": "markdown",
   "id": "95153c3f",
   "metadata": {},
   "source": [
    "#### 1.2 -- Filtering Disease Genes"
   ]
  },
  {
   "cell_type": "code",
   "execution_count": 4,
   "id": "d23d6ea0",
   "metadata": {},
   "outputs": [
    {
     "name": "stdout",
     "output_type": "stream",
     "text": [
      "Found 139 disease genes in Profound Mental Retardation\n"
     ]
    }
   ],
   "source": [
    "hs_disease_genes_df,hs_disease_genes = hga.query_disease_genes()"
   ]
  },
  {
   "cell_type": "markdown",
   "id": "c055e88e",
   "metadata": {},
   "source": [
    "#### 1.3 -- Creating LCC sub-graph,adjacency matrix,"
   ]
  },
  {
   "cell_type": "code",
   "execution_count": 5,
   "id": "e10150b5",
   "metadata": {},
   "outputs": [
    {
     "name": "stdout",
     "output_type": "stream",
     "text": [
      "# of connected components: 1\n",
      "19618\n",
      "Name: \n",
      "Type: Graph\n",
      "Number of nodes: 19618\n",
      "Number of edges: 665061\n",
      "Average degree:  67.8011\n"
     ]
    }
   ],
   "source": [
    "# We are creating the graph with nx from the from the filtered PPI dataset and returning the sub graph, adj matrix, nodes and edges of LCC \n",
    "pgenes_sub_graph,pgenes_adj,pnodes,pedges = hga.LCC_to_adj(hs_putative_genes)"
   ]
  },
  {
   "cell_type": "markdown",
   "id": "8d52cd50",
   "metadata": {},
   "source": [
    "#### 1.3 -- Cross Validation"
   ]
  },
  {
   "cell_type": "code",
   "execution_count": 6,
   "id": "ea534f98",
   "metadata": {},
   "outputs": [],
   "source": [
    "ds_genes_train,ds_genes_test = hga.KFold_CV(hs_disease_genes,n_folds=5,shuffle_flag=True)"
   ]
  },
  {
   "cell_type": "markdown",
   "id": "5c22e814",
   "metadata": {},
   "source": [
    "#### 1.4 -- Saving LCC and Seed Genes to files for Cytoscape"
   ]
  },
  {
   "cell_type": "code",
   "execution_count": 14,
   "id": "60a554d3",
   "metadata": {},
   "outputs": [],
   "source": [
    "np.savetxt(\"LCC .csv\", \n",
    "            np.array(pgenes_sub_graph.edges),\n",
    "            delimiter =\", \", \n",
    "            fmt ='% s')"
   ]
  },
  {
   "cell_type": "code",
   "execution_count": 9,
   "id": "7cfcbcaa",
   "metadata": {},
   "outputs": [],
   "source": [
    "for i in range(len(ds_genes_test)):\n",
    "    np.savetxt(\"test\"+str(i)+\".csv\", \n",
    "            ds_genes_test[i],\n",
    "            delimiter =\", \", \n",
    "            fmt ='% s')\n",
    "    np.savetxt(\"train\"+str(i)+\".csv\", \n",
    "            ds_genes_train[i],\n",
    "            delimiter =\", \", \n",
    "            fmt ='% s')"
   ]
  },
  {
   "cell_type": "markdown",
   "id": "8b9b20df",
   "metadata": {},
   "source": [
    "# Part 2: Algorithms  "
   ]
  },
  {
   "cell_type": "markdown",
   "id": "285203de",
   "metadata": {},
   "source": [
    "### 2.1 -- MCL Algorithm "
   ]
  },
  {
   "cell_type": "code",
   "execution_count": null,
   "id": "20a50a4d",
   "metadata": {},
   "outputs": [],
   "source": [
    "# Applying MLC Algoritm by given inflation range (1.5, 2.7, step = 0.1)\n",
    "results = Parallel(n_jobs=3)(delayed(hga.MCL)(pgenes_adj,i) for i in tqdm(np.arange(1.5,2.7,0.1)))\n",
    "hga.list_to_pikle(results,'MLC_modularity')"
   ]
  },
  {
   "cell_type": "code",
   "execution_count": 8,
   "id": "49a2ad4c",
   "metadata": {},
   "outputs": [
    {
     "name": "stdout",
     "output_type": "stream",
     "text": [
      "inflation: 1.8 modularity: 1\n",
      "inflation: 1.9 modularity: 2\n",
      "inflation: 2.0 modularity: 3\n",
      "inflation: 2.1 modularity: 4\n",
      "inflation: 2.2 modularity: 5\n",
      "inflation: 2.3 modularity: 6\n",
      "inflation: 2.4 modularity: 7\n",
      "inflation: 2.5 modularity: 8\n",
      "inflation: 2.6 modularity: 9\n"
     ]
    }
   ],
   "source": [
    "results_list_from_pkl = hga.read_pickle_list('MLC_modularity')\n",
    "for i in enumerate(np.arange(1.5,2.7,0.1)):\n",
    "    print(\"inflation:\", round(i[1],2), \"modularity:\", results_list_from_pkl[i[0]])\n",
    "    "
   ]
  },
  {
   "cell_type": "markdown",
   "id": "5b793485",
   "metadata": {},
   "source": [
    "### 2.1.1 -- Creating Clusters"
   ]
  },
  {
   "cell_type": "code",
   "execution_count": 7,
   "id": "8c35e12c",
   "metadata": {},
   "outputs": [
    {
     "name": "stdout",
     "output_type": "stream",
     "text": [
      "2106 of clusters obtained with inflation of 1.8\n"
     ]
    }
   ],
   "source": [
    "best_inflation = 1.8\n",
    "result = mc.run_mcl(pgenes_adj, inflation=best_inflation)\n",
    "clusters = mc.get_clusters(result)\n",
    "print(str(len(clusters))+\" of clusters obtained with inflation of \"+str(best_inflation))"
   ]
  },
  {
   "cell_type": "code",
   "execution_count": 8,
   "id": "4f0d594b",
   "metadata": {},
   "outputs": [
    {
     "name": "stdout",
     "output_type": "stream",
     "text": [
      "================================================\n",
      "Fold number:  0\n",
      "6 disease genes in cluster 0 --> 0.165607\n",
      "35 disease genes in cluster 2 --> 0.013666\n",
      "3 disease genes in cluster 6 --> 0.217906\n",
      "6 disease genes in cluster 11 --> 0.165457\n",
      "3 disease genes in cluster 27 --> 0.034026\n",
      "4 disease genes in cluster 46 --> 0.154399\n",
      "7 disease genes in cluster 53 --> 0.115389\n",
      "3 disease genes in cluster 68 --> 0.127471\n",
      "================================================\n",
      "Fold number:  1\n",
      "5 disease genes in cluster 0 --> 0.164454\n",
      "40 disease genes in cluster 2 --> 0.001084\n",
      "3 disease genes in cluster 6 --> 0.217906\n",
      "6 disease genes in cluster 11 --> 0.165457\n",
      "8 disease genes in cluster 53 --> 0.073821\n",
      "3 disease genes in cluster 67 --> 0.22377\n",
      "3 disease genes in cluster 68 --> 0.127471\n",
      "================================================\n",
      "Fold number:  2\n",
      "3 disease genes in cluster 0 --> 0.087338\n",
      "34 disease genes in cluster 2 --> 0.020074\n",
      "4 disease genes in cluster 6 --> 0.136394\n",
      "7 disease genes in cluster 11 --> 0.139195\n",
      "10 disease genes in cluster 53 --> 0.020798\n",
      "3 disease genes in cluster 67 --> 0.22377\n",
      "3 disease genes in cluster 68 --> 0.127471\n",
      "================================================\n",
      "Fold number:  3\n",
      "4 disease genes in cluster 0 --> 0.134684\n",
      "41 disease genes in cluster 2 --> 0.00058\n",
      "3 disease genes in cluster 6 --> 0.217906\n",
      "6 disease genes in cluster 11 --> 0.165457\n",
      "3 disease genes in cluster 27 --> 0.034026\n",
      "4 disease genes in cluster 46 --> 0.154399\n",
      "8 disease genes in cluster 53 --> 0.073821\n",
      "================================================\n",
      "Fold number:  4\n",
      "6 disease genes in cluster 0 --> 0.165553\n",
      "42 disease genes in cluster 2 --> 0.000365\n",
      "3 disease genes in cluster 6 --> 0.21883\n",
      "7 disease genes in cluster 11 --> 0.140597\n",
      "3 disease genes in cluster 27 --> 0.034725\n",
      "4 disease genes in cluster 46 --> 0.156161\n",
      "7 disease genes in cluster 53 --> 0.117308\n",
      "3 disease genes in cluster 67 --> 0.224366\n",
      "================================================\n",
      "The index of the enriched cluster found using MLC is:  [2, 27]\n"
     ]
    }
   ],
   "source": [
    "_, enriched_genes,enriched_cluster_ID = hga.MLC_eval(pgenes_sub_graph,ds_genes_train,clusters)"
   ]
  },
  {
   "cell_type": "code",
   "execution_count": 10,
   "id": "289fe7f3",
   "metadata": {},
   "outputs": [
    {
     "name": "stdout",
     "output_type": "stream",
     "text": [
      "TP: 51 --- FP: 23844 --- FN: 14839\n",
      "Precision: 0.002134 --- Recall: 0.003425 --- F1 Score: 0.00263\n"
     ]
    }
   ],
   "source": [
    "hga.MCL_evaluation_metrics(pgenes_sub_graph,ds_genes_test,clusters,enriched_cluster_ID)"
   ]
  },
  {
   "cell_type": "markdown",
   "id": "a7fbd66c",
   "metadata": {},
   "source": [
    "### 2.2 -- DIAMOnD Algorithm"
   ]
  },
  {
   "cell_type": "code",
   "execution_count": 15,
   "id": "9b803572",
   "metadata": {},
   "outputs": [
    {
     "name": "stdout",
     "output_type": "stream",
     "text": [
      "DIAMOnD(): ignoring 68 of 323 seed genes that are not in the network\n",
      "DIAMOnD(): ignoring 72 of 323 seed genes that are not in the network\n",
      "DIAMOnD(): ignoring 69 of 323 seed genes that are not in the network\n",
      "DIAMOnD(): ignoring 68 of 323 seed genes that are not in the network\n",
      "DIAMOnD(): ignoring 63 of 324 seed genes that are not in the network\n",
      "Precision: 0.012997 ± 0.003399\n",
      "Recall: 0.051944 ± 0.013398\n",
      "F1 Score: 0.020792 ± 0.005423\n"
     ]
    }
   ],
   "source": [
    "precision = []\n",
    "recall = []\n",
    "f1_score = []\n",
    "for i in range(0,5):\n",
    "    added_nodes, predicted_nodes = DIAMOnD(G_original=pgenes_sub_graph,\n",
    "                            seed_genes=ds_genes_train[i],\n",
    "                            max_number_of_added_nodes=len(ds_genes_train[i]),alpha=1)\n",
    "    #TP numero di geni che effettivamente sono disease genes\n",
    "    TP = len(set(predicted_nodes).intersection(set(ds_genes_test[i])))\n",
    "    #numero di geni riportati come veri ma che non sono disease genes \n",
    "    FP = len(ds_genes_train[i]) - TP\n",
    "    FN = len(ds_genes_test[i]) - TP\n",
    "    precision.append(TP/(TP+FP))\n",
    "    recall.append((TP)/(TP+FN))\n",
    "    try:\n",
    "        f1_score.append((2*precision[i]*recall[i])/(precision[i]+recall[i]))\n",
    "    except:\n",
    "        print(\"zero division\")\n",
    "\n",
    "\n",
    "print(\"Precision: \" + str(round(statistics.mean(precision),6)) + \" ± \" +str(round(statistics.stdev(precision),6)))\n",
    "print(\"Recall: \" + str(round(statistics.mean(recall),6)) + \" ± \" +str(round(statistics.stdev(recall),6)))\n",
    "print(\"F1 Score: \" + str(round(statistics.mean(f1_score),6)) + \" ± \" +str(round(statistics.stdev(f1_score),6)))\n"
   ]
  },
  {
   "cell_type": "markdown",
   "id": "f66c284d",
   "metadata": {},
   "source": [
    "### 2.3 -- DiaBLE Algorithm"
   ]
  },
  {
   "cell_type": "code",
   "execution_count": null,
   "id": "0f252b2f",
   "metadata": {},
   "outputs": [],
   "source": [
    "precision_diable = []\n",
    "recall_diable = []\n",
    "f1_score_diable = []\n",
    "for i in range(0,5):\n",
    "    added_nodes, predicted_nodes = DIAMOnD(G_original=pgenes_sub_graph,\n",
    "                                           seed_genes=ds_genes_train[i],\n",
    "                                           max_number_of_added_nodes=len(ds_genes_train[i]),\n",
    "                                           alpha=1,DiaBLE=True)\n",
    "                                           \n",
    "    #TP numero di geni che effettivamente sono disease genes\n",
    "    TP = len(set(predicted_nodes).intersection(set(ds_genes_test[i])))\n",
    "    #numero di geni riportati come veri ma che non sono disease genes \n",
    "    FP = len(ds_genes_train[i]) - TP\n",
    "    #numero di geni che \n",
    "    FN = len(ds_genes_train[i]) - TP\n",
    "    precision_diable.append(TP/(TP+FP))\n",
    "    recall_diable.append((TP)/(TP+FN))\n",
    "    try:\n",
    "        f1_score_diable.append((2*precision[i]*recall[i])/(precision[i]+recall[i]))\n",
    "    except:\n",
    "        print(\"zero division\")\n",
    "\n",
    "\n",
    "print(\"Precision: \" + str(round(statistics.mean(precision_diable),6)) + \" ± \" +str(round(statistics.stdev(precision_diable),6)))\n",
    "print(\"Recall: \" + str(round(statistics.mean(recall_diable),6)) + \" ± \" +str(round(statistics.stdev(recall_diable),6)))\n",
    "print(\"F1 Score: \" + str(round(statistics.mean(f1_score_diable),6)) + \" ± \" +str(round(statistics.stdev(f1_score_diable),6)))\n"
   ]
  },
  {
   "cell_type": "markdown",
   "id": "e83e67eb",
   "metadata": {},
   "source": [
    "### 2.6 -- Random Walk with Restart "
   ]
  },
  {
   "cell_type": "code",
   "execution_count": null,
   "id": "28744549",
   "metadata": {},
   "outputs": [],
   "source": [
    "for fold in tqdm(range(0,5)):\n",
    "    rwr_enriched_genes = hga.RWR(pgenes_sub_graph,ds_genes_train[fold],max_print_items=0)\n",
    "    break"
   ]
  },
  {
   "cell_type": "markdown",
   "id": "46e76193",
   "metadata": {},
   "source": [
    "# Part 3: Extented Validation  "
   ]
  },
  {
   "cell_type": "code",
   "execution_count": 27,
   "id": "c36cb38a",
   "metadata": {},
   "outputs": [],
   "source": [
    "all_gene_disease = hga.query_disease_genes_extendend()"
   ]
  }
 ],
 "metadata": {
  "kernelspec": {
   "display_name": "Python 3",
   "language": "python",
   "name": "python3"
  },
  "language_info": {
   "codemirror_mode": {
    "name": "ipython",
    "version": 3
   },
   "file_extension": ".py",
   "mimetype": "text/x-python",
   "name": "python",
   "nbconvert_exporter": "python",
   "pygments_lexer": "ipython3",
   "version": "3.6.10"
  }
 },
 "nbformat": 4,
 "nbformat_minor": 5
}
